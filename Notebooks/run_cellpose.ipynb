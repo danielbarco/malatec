{
 "cells": [
  {
   "cell_type": "code",
   "execution_count": 76,
   "metadata": {},
   "outputs": [
    {
     "output_type": "error",
     "ename": "Error",
     "evalue": "Jupyter cannot be started. Error attempting to locate jupyter: Data Science libraries jupyter and notebook are not installed in interpreter Python 2.7.18 64-bit.",
     "traceback": [
      "Error: Jupyter cannot be started. Error attempting to locate jupyter: Data Science libraries jupyter and notebook are not installed in interpreter Python 2.7.18 64-bit.",
      "at S.startServer (/home/fight/.vscode/extensions/ms-toolsai.jupyter-2021.5.745244803/out/client/extension.js:49:382895)",
      "at async S.createServer (/home/fight/.vscode/extensions/ms-toolsai.jupyter-2021.5.745244803/out/client/extension.js:49:382190)",
      "at async connect (/home/fight/.vscode/extensions/ms-toolsai.jupyter-2021.5.745244803/out/client/extension.js:49:495725)",
      "at async T.ensureConnectionAndNotebookImpl (/home/fight/.vscode/extensions/ms-toolsai.jupyter-2021.5.745244803/out/client/extension.js:32:668241)",
      "at async T.ensureConnectionAndNotebook (/home/fight/.vscode/extensions/ms-toolsai.jupyter-2021.5.745244803/out/client/extension.js:32:666473)",
      "at async T.clearResult (/home/fight/.vscode/extensions/ms-toolsai.jupyter-2021.5.745244803/out/client/extension.js:32:662135)",
      "at async T.reexecuteCell (/home/fight/.vscode/extensions/ms-toolsai.jupyter-2021.5.745244803/out/client/extension.js:32:648400)",
      "at async T.reexecuteCells (/home/fight/.vscode/extensions/ms-toolsai.jupyter-2021.5.745244803/out/client/extension.js:32:644604)"
     ]
    }
   ],
   "source": [
    "import numpy as np\n",
    "import time, os, sys\n",
    "from urllib.parse import urlparse\n",
    "import matplotlib.pyplot as plt\n",
    "import matplotlib as mpl\n",
    "%matplotlib inline\n",
    "mpl.rcParams['figure.dpi'] = 300\n",
    "from cellpose import utils, io\n",
    "import os, sys\n",
    "import glob\n",
    "import cv2\n",
    "currentdir = os.path.dirname(os.path.realpath('run_cellpose.ipynb'))\n",
    "parentdir = os.path.dirname(currentdir)\n",
    "sys.path.append(parentdir)\n",
    "\n",
    "org_files = ['../data/testing_openflexure/2021-03-05_15-50-16_0_0_5578.jpeg', \n",
    "            '../data/fit_to_circle/cropped_P117_IMG_20151115_155104.jpg']\n",
    "\n",
    "# view 1 image\n",
    "img = io.imread(org_files[-1])\n",
    "plt.figure(figsize=(2,2))\n",
    "plt.imshow(img)\n",
    "plt.axis('off')\n",
    "plt.show()"
   ]
  },
  {
   "cell_type": "code",
   "execution_count": 77,
   "metadata": {},
   "outputs": [
    {
     "output_type": "error",
     "ename": "Error",
     "evalue": "Jupyter cannot be started. Error attempting to locate jupyter: Data Science libraries jupyter and notebook are not installed in interpreter Python 2.7.18 64-bit.",
     "traceback": [
      "Error: Jupyter cannot be started. Error attempting to locate jupyter: Data Science libraries jupyter and notebook are not installed in interpreter Python 2.7.18 64-bit.",
      "at S.startServer (/home/fight/.vscode/extensions/ms-toolsai.jupyter-2021.5.745244803/out/client/extension.js:49:382895)",
      "at async S.createServer (/home/fight/.vscode/extensions/ms-toolsai.jupyter-2021.5.745244803/out/client/extension.js:49:382190)",
      "at async connect (/home/fight/.vscode/extensions/ms-toolsai.jupyter-2021.5.745244803/out/client/extension.js:49:495725)",
      "at async T.ensureConnectionAndNotebookImpl (/home/fight/.vscode/extensions/ms-toolsai.jupyter-2021.5.745244803/out/client/extension.js:32:668241)",
      "at async T.ensureConnectionAndNotebook (/home/fight/.vscode/extensions/ms-toolsai.jupyter-2021.5.745244803/out/client/extension.js:32:666473)",
      "at async T.clearResult (/home/fight/.vscode/extensions/ms-toolsai.jupyter-2021.5.745244803/out/client/extension.js:32:662135)",
      "at async T.reexecuteCell (/home/fight/.vscode/extensions/ms-toolsai.jupyter-2021.5.745244803/out/client/extension.js:32:648400)",
      "at async T.reexecuteCells (/home/fight/.vscode/extensions/ms-toolsai.jupyter-2021.5.745244803/out/client/extension.js:32:644604)"
     ]
    }
   ],
   "source": [
    "\n",
    "def mask_rgb(masks, colors=None):\n",
    "    \"\"\" masks in random rgb colors\n",
    "    Parameters\n",
    "    ----------------\n",
    "    masks: int, 2D array\n",
    "        masks where 0=NO masks; 1,2,...=mask labels\n",
    "    colors: int, 2D array (optional, default None)\n",
    "        size [nmasks x 3], each entry is a color in 0-255 range\n",
    "    Returns\n",
    "    ----------------\n",
    "    RGB: uint8, 3D array\n",
    "        array of masks overlaid on grayscale image\n",
    "    \"\"\"\n",
    "    if colors is not None:\n",
    "        if colors.max()>1:\n",
    "            colors = np.float32(colors)\n",
    "            colors /= 255\n",
    "        colors = utils.rgb_to_hsv(colors)\n",
    "    \n",
    "    HSV = np.zeros((masks.shape[0], masks.shape[1], 3), np.float32)\n",
    "    HSV[:,:,2] = 1.0\n",
    "    for n in range(int(masks.max())):\n",
    "        ipix = (masks==n+1).nonzero()\n",
    "        if colors is None:\n",
    "            HSV[ipix[0],ipix[1],0] = np.random.rand()\n",
    "        else:\n",
    "            HSV[ipix[0],ipix[1],0] = colors[n,0]\n",
    "        HSV[ipix[0],ipix[1],1] = np.random.rand()*0.5+0.5\n",
    "        HSV[ipix[0],ipix[1],2] = np.random.rand()*0.5+0.5\n",
    "    RGB = (utils.hsv_to_rgb(HSV) * 255).astype(np.uint8)\n",
    "    return RGB\n",
    "\n",
    "def mask_overlay(img, masks, colors=None):\n",
    "    \"\"\" overlay masks on image (set image to grayscale)\n",
    "    Parameters\n",
    "    ----------------\n",
    "    img: int or float, 2D or 3D array\n",
    "        img is of size [Ly x Lx (x nchan)]\n",
    "    masks: int, 2D array\n",
    "        masks where 0=NO masks; 1,2,...=mask labels\n",
    "    colors: int, 2D array (optional, default None)\n",
    "        size [nmasks x 3], each entry is a color in 0-255 range\n",
    "    Returns\n",
    "    ----------------\n",
    "    RGB: uint8, 3D array\n",
    "        array of masks overlaid on grayscale image\n",
    "    \"\"\"\n",
    "    if colors is not None:\n",
    "        if colors.max()>1:\n",
    "            colors = np.float32(colors)\n",
    "            colors /= 255\n",
    "        colors = utils.rgb_to_hsv(colors)\n",
    "    if img.ndim>2:\n",
    "        img = img.astype(np.float32).mean(axis=-1)\n",
    "    else:\n",
    "        img = img.astype(np.float32)\n",
    "    img = utils.normalize99(img)\n",
    "    img -= img.min()\n",
    "    img /= img.max()\n",
    "    HSV = np.zeros((img.shape[0], img.shape[1], 3), np.float32)\n",
    "    HSV[:,:,2] = np.clip(img*1.5, 0, 1.0)\n",
    "    for n in range(int(masks.max())):\n",
    "        ipix = (masks==n+1).nonzero()\n",
    "        if colors is None:\n",
    "            HSV[ipix[0],ipix[1],0] = np.random.rand()\n",
    "        else:\n",
    "            HSV[ipix[0],ipix[1],0] = colors[n,0]\n",
    "        HSV[ipix[0],ipix[1],1] = 1.0\n",
    "    RGB = (utils.hsv_to_rgb(HSV) * 255).astype(np.uint8)\n",
    "    return RGB\n",
    "\n",
    "def image_to_rgb(img0, channels=[0,0]):\n",
    "    \"\"\" image is 2 x Ly x Lx or Ly x Lx x 2 - change to RGB Ly x Lx x 3 \"\"\"\n",
    "    img = img0.copy()\n",
    "    img = img.astype(np.float32)\n",
    "    if img.ndim<3:\n",
    "        img = img[:,:,np.newaxis]\n",
    "    if img.shape[0]<5:\n",
    "        img = np.transpose(img, (1,2,0))\n",
    "    if channels[0]==0:\n",
    "        img = img.mean(axis=-1)[:,:,np.newaxis]\n",
    "    for i in range(img.shape[-1]):\n",
    "        if np.ptp(img[:,:,i])>0:\n",
    "            img[:,:,i] = utils.normalize99(img[:,:,i])\n",
    "            img[:,:,i] = np.clip(img[:,:,i], 0, 1)\n",
    "    img *= 255\n",
    "    img = np.uint8(img)\n",
    "    RGB = np.zeros((img.shape[0], img.shape[1], 3), np.uint8)\n",
    "    if img.shape[-1]==1:\n",
    "        RGB = np.tile(img,(1,1,3))\n",
    "    else:\n",
    "        RGB[:,:,channels[0]-1] = img[:,:,0]\n",
    "        if channels[1] > 0:\n",
    "            RGB[:,:,channels[1]-1] = img[:,:,1]\n",
    "    return RGB\n",
    "\n",
    "def interesting_patch(mask, bsize=130):\n",
    "    \"\"\" get patch of size bsize x bsize with most masks \"\"\"\n",
    "    Ly,Lx = mask.shape\n",
    "    m = np.float32(mask>0)\n",
    "    m = gaussian_filter(m, bsize/2)\n",
    "    y,x = np.unravel_index(np.argmax(m), m.shape)\n",
    "    ycent = max(bsize//2, min(y, Ly-bsize//2))\n",
    "    xcent = max(bsize//2, min(x, Lx-bsize//2))\n",
    "    patch = [np.arange(ycent-bsize//2, ycent+bsize//2, 1, int),\n",
    "             np.arange(xcent-bsize//2, xcent+bsize//2, 1, int)]\n",
    "    return patch\n",
    "\n",
    "def disk(med, r, Ly, Lx):\n",
    "    \"\"\" returns pixels of disk with radius r and center med \"\"\"\n",
    "    yy, xx = np.meshgrid(np.arange(0,Ly,1,int), np.arange(0,Lx,1,int),\n",
    "                         indexing='ij')\n",
    "    inds = ((yy-med[0])**2 + (xx-med[1])**2)**0.5 <= r\n",
    "    y = yy[inds].flatten()\n",
    "    x = xx[inds].flatten()\n",
    "    return y,x"
   ]
  },
  {
   "cell_type": "code",
   "execution_count": 78,
   "metadata": {},
   "outputs": [
    {
     "output_type": "error",
     "ename": "Error",
     "evalue": "Jupyter cannot be started. Error attempting to locate jupyter: Data Science libraries jupyter and notebook are not installed in interpreter Python 2.7.18 64-bit.",
     "traceback": [
      "Error: Jupyter cannot be started. Error attempting to locate jupyter: Data Science libraries jupyter and notebook are not installed in interpreter Python 2.7.18 64-bit.",
      "at S.startServer (/home/fight/.vscode/extensions/ms-toolsai.jupyter-2021.5.745244803/out/client/extension.js:49:382895)",
      "at processTicksAndRejections (internal/process/task_queues.js:97:5)",
      "at async S.createServer (/home/fight/.vscode/extensions/ms-toolsai.jupyter-2021.5.745244803/out/client/extension.js:49:382190)",
      "at async connect (/home/fight/.vscode/extensions/ms-toolsai.jupyter-2021.5.745244803/out/client/extension.js:49:495725)",
      "at async T.ensureConnectionAndNotebookImpl (/home/fight/.vscode/extensions/ms-toolsai.jupyter-2021.5.745244803/out/client/extension.js:32:668241)",
      "at async T.ensureConnectionAndNotebook (/home/fight/.vscode/extensions/ms-toolsai.jupyter-2021.5.745244803/out/client/extension.js:32:666473)",
      "at async T.clearResult (/home/fight/.vscode/extensions/ms-toolsai.jupyter-2021.5.745244803/out/client/extension.js:32:662135)",
      "at async T.reexecuteCell (/home/fight/.vscode/extensions/ms-toolsai.jupyter-2021.5.745244803/out/client/extension.js:32:648400)",
      "at async T.reexecuteCells (/home/fight/.vscode/extensions/ms-toolsai.jupyter-2021.5.745244803/out/client/extension.js:32:644604)"
     ]
    }
   ],
   "source": [
    "imgs = [cv2.imread(img_path) for img_path in org_files]"
   ]
  },
  {
   "cell_type": "code",
   "execution_count": 95,
   "metadata": {},
   "outputs": [
    {
     "output_type": "error",
     "ename": "Error",
     "evalue": "Jupyter cannot be started. Error attempting to locate jupyter: Data Science libraries notebook and jupyter are not installed in interpreter Python 2.7.18 64-bit.",
     "traceback": [
      "Error: Jupyter cannot be started. Error attempting to locate jupyter: Data Science libraries notebook and jupyter are not installed in interpreter Python 2.7.18 64-bit.",
      "at S.startServer (/home/fight/.vscode/extensions/ms-toolsai.jupyter-2021.5.745244803/out/client/extension.js:49:382895)",
      "at processTicksAndRejections (internal/process/task_queues.js:97:5)",
      "at async S.createServer (/home/fight/.vscode/extensions/ms-toolsai.jupyter-2021.5.745244803/out/client/extension.js:49:382190)",
      "at async connect (/home/fight/.vscode/extensions/ms-toolsai.jupyter-2021.5.745244803/out/client/extension.js:49:495725)",
      "at async T.ensureConnectionAndNotebookImpl (/home/fight/.vscode/extensions/ms-toolsai.jupyter-2021.5.745244803/out/client/extension.js:32:668241)",
      "at async T.ensureConnectionAndNotebook (/home/fight/.vscode/extensions/ms-toolsai.jupyter-2021.5.745244803/out/client/extension.js:32:666473)",
      "at async T.clearResult (/home/fight/.vscode/extensions/ms-toolsai.jupyter-2021.5.745244803/out/client/extension.js:32:662135)",
      "at async T.reexecuteCell (/home/fight/.vscode/extensions/ms-toolsai.jupyter-2021.5.745244803/out/client/extension.js:32:648400)",
      "at async T.reexecuteCells (/home/fight/.vscode/extensions/ms-toolsai.jupyter-2021.5.745244803/out/client/extension.js:32:644604)"
     ]
    }
   ],
   "source": [
    "img_height = 2048\n",
    "img_width = 2048\n",
    "img_channels = 3\n",
    "imgs_red = np.zeros((len(imgs), img_height, img_width, img_channels), dtype=np.uint8)\n",
    "sizes_imgs_red = []\n",
    "for idx, img in enumerate(imgs):\n",
    "    img_red = cv2.resize(img, (img_height, img_width))\n",
    "    #Append image to numpy array\n",
    "    imgs_red[idx] = img_red\n",
    "    #Append image shape to numpy array\n",
    "    sizes_imgs_red.append([img_red.shape[0], img_red.shape[1]])"
   ]
  },
  {
   "cell_type": "code",
   "execution_count": 96,
   "metadata": {},
   "outputs": [
    {
     "data": {
      "text/plain": [
       "(2048, 2048, 3)"
      ]
     },
     "execution_count": 96,
     "metadata": {},
     "output_type": "execute_result"
    }
   ],
   "source": [
    "imgs_red[0].shape"
   ]
  },
  {
   "cell_type": "code",
   "execution_count": null,
   "metadata": {
    "scrolled": false
   },
   "outputs": [
    {
     "name": "stdout",
     "output_type": "stream",
     "text": [
      "** TORCH CUDA version installed and working. **\n",
      ">>>> using GPU\n",
      "processing 1 image(s)\n",
      "computing styles from images\n"
     ]
    }
   ],
   "source": [
    "# RUN CELLPOSE\n",
    "\n",
    "from cellpose import models, io\n",
    "\n",
    "# DEFINE CELLPOSE MODEL\n",
    "# model_type='cyto' or model_type='nuclei'\n",
    "model = models.Cellpose(gpu=True, model_type='cyto')\n",
    "\n",
    "# define CHANNELS to run segementation on\n",
    "# grayscale=0, R=1, G=2, B=3\n",
    "# channels = [cytoplasm, nucleus]\n",
    "# if NUCLEUS channel does not exist, set the second channel to 0\n",
    "# channels = [0,0]\n",
    "# IF ALL YOUR IMAGES ARE THE SAME TYPE, you can give a list with 2 elements\n",
    "# channels = [0,0] # IF YOU HAVE GRAYSCALE\n",
    "# channels = [2,3] # IF YOU HAVE G=cytoplasm and B=nucleus\n",
    "# channels = [2,1] # IF YOU HAVE G=cytoplasm and R=nucleus\n",
    "\n",
    "# or if you have different types of channels in each image\n",
    "channels = [[0,0], [0,0], [0,0]]\n",
    "\n",
    "# if diameter is set to None, the size of the cells is estimated on a per image basis\n",
    "# you can set the average cell `diameter` in pixels yourself (recommended) \n",
    "# diameter can be a list or a single number for all images\n",
    "\n",
    "# you can run all in a list e.g.\n",
    "# >>> imgs = [io.imread(filename) in files]\n",
    "# >>> masks, flows, styles, diams = model.eval(imgs, diameter=None, channels=channels)\n",
    "# >>> io.masks_flows_to_seg(imgs, masks, flows, diams, files, channels)\n",
    "# >>> io.save_to_png(imgs, masks, flows, files)\n",
    "\n",
    "# or in a loop\n",
    "for chan, img in zip(channels, imgs_red):\n",
    "    #img = io.imread(filename)\n",
    "    masks, flows, styles, diams = model.eval(img, diameter=None, channels=chan)\n",
    "\n",
    "    # # save results so you can load in gui\n",
    "    # io.masks_flows_to_seg(img, masks, flows, diams, filename, chan)\n",
    "\n",
    "    # # save results as png\n",
    "    # io.save_to_png(img, masks, flows, filename)"
   ]
  },
  {
   "cell_type": "code",
   "execution_count": null,
   "metadata": {},
   "outputs": [],
   "source": [
    "# DISPLAY RESULTS\n",
    "from cellpose import plot\n",
    "\n",
    "fig = plt.figure(figsize=(12,5))\n",
    "plot.show_segmentation(fig, img, masks, flows[0], channels=chan)\n",
    "plt.tight_layout()\n",
    "plt.show()"
   ]
  },
  {
   "cell_type": "code",
   "execution_count": null,
   "metadata": {},
   "outputs": [],
   "source": [
    "plt.imshow(masks)"
   ]
  },
  {
   "cell_type": "code",
   "execution_count": null,
   "metadata": {},
   "outputs": [],
   "source": [
    "outlines"
   ]
  },
  {
   "cell_type": "code",
   "execution_count": null,
   "metadata": {},
   "outputs": [],
   "source": [
    "fig = plt.figure()\n",
    "ax = fig.add_subplot(111)\n",
    "outlines = utils.masks_to_outlines(masks)\n",
    "outX, outY = np.nonzero(outlines)\n",
    "imgout= imgs_red[1].copy()\n",
    "imgout[outX, outY] = np.array([255,75,75])\n",
    "ax.imshow(imgout)\n",
    "#for o in outpix:\n",
    "#    ax.plot(o[:,0], o[:,1], color=[1,0,0], lw=1)\n",
    "ax.set_title('predicted outlines')\n",
    "ax.axis('off')"
   ]
  },
  {
   "cell_type": "code",
   "execution_count": null,
   "metadata": {},
   "outputs": [],
   "source": [
    "fig = plt.figure()\n",
    "ax = fig.add_subplot(111)\n",
    "overlay = mask_overlay(imgs_red[1], masks)\n",
    "ax.imshow(overlay)\n",
    "ax.set_title('predicted masks')\n",
    "ax.axis('off')"
   ]
  },
  {
   "cell_type": "code",
   "execution_count": null,
   "metadata": {},
   "outputs": [],
   "source": [
    " "
   ]
  },
  {
   "cell_type": "code",
   "execution_count": null,
   "metadata": {},
   "outputs": [],
   "source": []
  },
  {
   "cell_type": "code",
   "execution_count": null,
   "metadata": {},
   "outputs": [],
   "source": []
  }
 ],
 "metadata": {
  "kernelspec": {
   "display_name": "Python 3",
   "language": "python",
   "name": "python3"
  },
  "language_info": {
   "codemirror_mode": {
    "name": "ipython",
    "version": 3
   },
   "file_extension": ".py",
   "mimetype": "text/x-python",
   "name": "python",
   "nbconvert_exporter": "python",
   "pygments_lexer": "ipython3",
   "version": "3.6.9"
  },
  "varInspector": {
   "cols": {
    "lenName": 16,
    "lenType": 16,
    "lenVar": 40
   },
   "kernels_config": {
    "python": {
     "delete_cmd_postfix": "",
     "delete_cmd_prefix": "del ",
     "library": "var_list.py",
     "varRefreshCmd": "print(var_dic_list())"
    },
    "r": {
     "delete_cmd_postfix": ") ",
     "delete_cmd_prefix": "rm(",
     "library": "var_list.r",
     "varRefreshCmd": "cat(var_dic_list()) "
    }
   },
   "types_to_exclude": [
    "module",
    "function",
    "builtin_function_or_method",
    "instance",
    "_Feature"
   ],
   "window_display": false
  }
 },
 "nbformat": 4,
 "nbformat_minor": 4
}