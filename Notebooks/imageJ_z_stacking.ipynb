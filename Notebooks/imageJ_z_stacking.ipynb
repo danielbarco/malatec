{
 "metadata": {
  "language_info": {
   "codemirror_mode": {
    "name": "ipython",
    "version": 3
   },
   "file_extension": ".py",
   "mimetype": "text/x-python",
   "name": "python",
   "nbconvert_exporter": "python",
   "pygments_lexer": "ipython3",
   "version": "3.7.3-final"
  },
  "orig_nbformat": 2,
  "kernelspec": {
   "name": "python3",
   "display_name": "Python 3",
   "language": "python"
  }
 },
 "nbformat": 4,
 "nbformat_minor": 2,
 "cells": [
  {
   "cell_type": "code",
   "execution_count": 2,
   "metadata": {},
   "outputs": [
    {
     "output_type": "error",
     "ename": "SyntaxError",
     "evalue": "invalid syntax (<ipython-input-2-129086478889>, line 3)",
     "traceback": [
      "\u001b[0;36m  File \u001b[0;32m\"<ipython-input-2-129086478889>\"\u001b[0;36m, line \u001b[0;32m3\u001b[0m\n\u001b[0;31m    net.imagej imagej 2.0.0-rc-71\u001b[0m\n\u001b[0m                    ^\u001b[0m\n\u001b[0;31mSyntaxError\u001b[0m\u001b[0;31m:\u001b[0m invalid syntax\n"
     ]
    }
   ],
   "source": [
    "%classpath config resolver scijava.public https://maven.scijava.org/content/groups/public\n",
    "%%classpath add mvn\n",
    "net.imagej imagej 2.0.0-rc-71\n",
    "net.imagej imagej-notebook 0.7.1"
   ]
  },
  {
   "cell_type": "code",
   "execution_count": null,
   "metadata": {},
   "outputs": [],
   "source": [
    "ij = new net.imagej.ImageJ()\n",
    "\"ImageJ v${ij.getVersion()} is ready to go.\""
   ]
  },
  {
   "cell_type": "code",
   "execution_count": null,
   "metadata": {},
   "outputs": [],
   "source": [
    "#Load an image\n",
    "image = ij.io().open(\"https://imagej.net/images/lymp.tif\")"
   ]
  },
  {
   "cell_type": "code",
   "execution_count": null,
   "metadata": {},
   "outputs": [],
   "source": [
    "#Compute Histogram\n",
    "histogram = ij.op().image().histogram(image)"
   ]
  },
  {
   "cell_type": "code",
   "execution_count": null,
   "metadata": {},
   "outputs": [],
   "source": [
    "#N-dimnesional crop\n",
    "mandrill = ij.io().open(\"https://imagej.net/images/baboon.jpg\")"
   ]
  },
  {
   "cell_type": "code",
   "execution_count": null,
   "metadata": {},
   "outputs": [],
   "source": [
    "import net.imglib2.FinalInterval\n",
    "min = [85, 0, 110]\n",
    "len = [5, 335, 1]\n",
    "bounds = FinalInterval.createMinSize(min[0], len[0], min[1], len[1], min[2], len[2])\n",
    "eyes = ij.op().transform().crop(mandrill, bounds, true)"
   ]
  },
  {
   "cell_type": "code",
   "execution_count": null,
   "metadata": {},
   "outputs": [],
   "source": [
    "#Type conversion\n",
    "eyes32 = ij.op().convert().float32(eyes)"
   ]
  },
  {
   "cell_type": "code",
   "execution_count": null,
   "metadata": {},
   "outputs": [],
   "source": [
    "eyes.firstElement().getClass().getName()"
   ]
  },
  {
   "cell_type": "code",
   "execution_count": null,
   "metadata": {},
   "outputs": [],
   "source": [
    "eyes32.firstElement().getClass().getName()"
   ]
  },
  {
   "cell_type": "code",
   "execution_count": null,
   "metadata": {},
   "outputs": [],
   "source": [
    "#Median filter with circular neighborhood\n",
    "import net.imglib2.algorithm.neighborhood.HyperSphereShape\n",
    "median = ij.op().run(\"create.img\", eyes32)\n",
    "neighborhood = new HyperSphereShape(4)\n",
    "ij.op().run(\"filter.median\", median, eyes32, neighborhood)"
   ]
  },
  {
   "cell_type": "code",
   "execution_count": null,
   "metadata": {},
   "outputs": [],
   "source": [
    "#Difference of Gaussians formulas\n",
    "\n",
    "dogFormula = \"gauss(image, sigma1) - gauss(image, sigma2)\"\n",
    "dog = ij.op().eval(dogFormula, [\n",
    "  \"image\": eyes32,\n",
    "  \"sigma1\": [20, 20],\n",
    "  \"sigma2\": [4, 4]\n",
    "])"
   ]
  },
  {
   "cell_type": "code",
   "execution_count": null,
   "metadata": {},
   "outputs": [],
   "source": [
    "#Grayscale morphology operators\n",
    "\n",
    "topHat = ij.op().morphology().topHat(eyes, [neighborhood])"
   ]
  },
  {
   "cell_type": "code",
   "execution_count": null,
   "metadata": {},
   "outputs": [],
   "source": [
    "blackTopHat = ij.op().morphology().blackTopHat(eyes, [neighborhood])"
   ]
  },
  {
   "cell_type": "code",
   "execution_count": null,
   "metadata": {},
   "outputs": [],
   "source": [
    "#Display multiple image at once\n",
    "ij.notebook().display([\"median\":median, \"topHat\":topHat, \"blackTopHat\":blackTopHat])"
   ]
  },
  {
   "cell_type": "code",
   "execution_count": null,
   "metadata": {},
   "outputs": [],
   "source": [
    "ij.notebook().display([[\"median\":median, \"topHat\":topHat, \"blackTopHat\":blackTopHat]])"
   ]
  },
  {
   "cell_type": "code",
   "execution_count": null,
   "metadata": {},
   "outputs": [],
   "source": [
    "#Fourier transform with lowpass filter\n",
    "\n",
    "import net.imglib2.util.Util\n",
    "\n",
    "lowpass = { fft, radius ->\n",
    "  // Declare an array to hold the current position of the cursor.\n",
    "  pos = new long[fft.numDimensions()]\n",
    "\n",
    "  // Define origin as 0,0.\n",
    "  long[] origin = [0, 0]\n",
    "\n",
    "  // Define a 2nd 'origin' at bottom left of image.\n",
    "  // This is a bit of a hack. We want to draw a circle around the origin,\n",
    "  // since the origin is at 0,0 - the circle will 'reflect' to the bottom.\n",
    "  long[] origin2 = [0, fft.dimension(1)]\n",
    "\n",
    "  // Loop through all pixels.\n",
    "  cursor = fft.localizingCursor()\n",
    "  while (cursor.hasNext()) {\n",
    "    cursor.fwd()\n",
    "    cursor.localize(pos)\n",
    "\n",
    "    // Calculate distance from 0,0 and bottom left corner\n",
    "    // (so we can form the reflected semi-circle).\n",
    "    dist = Util.distance(origin, pos)\n",
    "    dist2 = Util.distance(origin2, pos)\n",
    "\n",
    "    // If distance is above radius (cutoff frequency) set value of FFT to zero.\n",
    "    if (dist > radius && dist2 > radius)\n",
    "      cursor.get().setZero()\n",
    "  }\n",
    "}"
   ]
  },
  {
   "cell_type": "code",
   "execution_count": null,
   "metadata": {},
   "outputs": [],
   "source": [
    "\n",
    "#perform a fast fourier transform (FFT) on the image, run the lowpass filter, then inver the FFT:\n",
    "\n",
    "import net.imglib2.type.numeric.real.FloatType\n",
    "\n",
    "// Perform fft of the input.\n",
    "fft = ij.op().filter().fft(image)\n",
    "\n",
    "// Filter it.\n",
    "lowpass(fft, radius=10)\n",
    "\n",
    "// Reverse the FFT.\n",
    "inverse = ij.op().run(\"create.img\", image, new FloatType())\n",
    "ij.op().filter().ifft(inverse, fft)\n",
    "\n",
    "// Display the result.\n",
    "ij.notebook().display([[\"image\":image, \"lowpass\":inverse]])"
   ]
  }
 ]
}