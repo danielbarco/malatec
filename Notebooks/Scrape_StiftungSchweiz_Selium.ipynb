{
 "cells": [
  {
   "cell_type": "code",
   "execution_count": 94,
   "metadata": {
    "ExecuteTime": {
     "end_time": "2020-10-31T08:48:57.862505Z",
     "start_time": "2020-10-31T08:48:57.725444Z"
    }
   },
   "outputs": [],
   "source": [
    "import requests\n",
    "from bs4 import BeautifulSoup\n",
    "from urllib.parse import urljoin\n",
    "import time\n",
    "import pandas as pd\n",
    "from selenium import webdriver \n",
    "from selenium.webdriver.chrome.options import Options\n",
    "import re\n",
    "import json"
   ]
  },
  {
   "source": [
    "# Selenium (works perfectly)"
   ],
   "cell_type": "markdown",
   "metadata": {}
  },
  {
   "cell_type": "code",
   "execution_count": 95,
   "metadata": {},
   "outputs": [],
   "source": [
    "# Define Browser Options (hide the actual browser)\n",
    "chrome_options = Options()\n",
    "chrome_options.add_argument(\"--headless\") # Hides the browser window"
   ]
  },
  {
   "source": [
    "# a list with all possible urls i.e. org_url start with some random organisation\n",
    "FILE_PATH_FOLDER = 'scrape/'\n",
    "org_url = ['https://stiftungen.stiftungschweiz.ch/organizations/annette-ten-zeldam-stiftung']\n",
    "driver = webdriver.Chrome(executable_path='Chrome_Webdriver/chromedriver', options=chrome_options)\n",
    "org_details = []\n",
    "org_data = pd.DataFrame(columns=['foundation','website','phone','adress_street','address_house_number','address_postal_code', 'address_city', 'scope',\n",
    "                                'topics', 'targets', ])"
   ],
   "cell_type": "code",
   "metadata": {},
   "execution_count": 96,
   "outputs": []
  },
  {
   "cell_type": "code",
   "execution_count": 97,
   "metadata": {},
   "outputs": [
    {
     "output_type": "stream",
     "name": "stdout",
     "text": [
      "https://stiftungen.stiftungschweiz.ch/organizations/annette-ten-zeldam-stiftung\n",
      "https://stiftungen.stiftungschweiz.ch/organizations/ernesto-bertarelli-foundation\n",
      "https://stiftungen.stiftungschweiz.ch/organizations/annette-ringier-stiftung\n",
      "https://stiftungen.stiftungschweiz.ch/organizations/clara-stiftung\n",
      "https://stiftungen.stiftungschweiz.ch/organizations/drosos-stiftung\n",
      "https://stiftungen.stiftungschweiz.ch/organizations/rene-und-margrit-waibel-stiftung\n",
      "https://stiftungen.stiftungschweiz.ch/organizations/anke-remo-und-avy-schaellibaum-stiftung-aras\n",
      "https://stiftungen.stiftungschweiz.ch/organizations/pertsiounis-sotiris-stiftung\n",
      "https://stiftungen.stiftungschweiz.ch/organizations/xellent-stiftung\n",
      "https://stiftungen.stiftungschweiz.ch/organizations/stiftung-salientes\n",
      "https://stiftungen.stiftungschweiz.ch/organizations/stiftung-marie-lou-ringgenberg\n",
      "https://stiftungen.stiftungschweiz.ch/organizations/appsocial-org-stiftung\n",
      "https://stiftungen.stiftungschweiz.ch/organizations/the-forlam-foundation\n",
      "https://stiftungen.stiftungschweiz.ch/organizations/asmallworld-foundation\n",
      "https://stiftungen.stiftungschweiz.ch/organizations/iw-stiftung-mensch-und-zukunft\n",
      "https://stiftungen.stiftungschweiz.ch/organizations/drosos-stiftung\n",
      "https://stiftungen.stiftungschweiz.ch/organizations/child-safe-foundation\n",
      "https://stiftungen.stiftungschweiz.ch/organizations/freunde-der-zedern-stiftung-tansania\n",
      "https://stiftungen.stiftungschweiz.ch/organizations/international-science-ch-foundation\n",
      "https://stiftungen.stiftungschweiz.ch/organizations/blue-diamond-foundation\n",
      "https://stiftungen.stiftungschweiz.ch/organizations/max-kohler-stiftung\n",
      "https://stiftungen.stiftungschweiz.ch/organizations/erna-letisch-schweri-stiftung\n",
      "https://stiftungen.stiftungschweiz.ch/organizations/asmallworld-foundation\n",
      "https://stiftungen.stiftungschweiz.ch/organizations/agape-stiftung\n",
      "https://stiftungen.stiftungschweiz.ch/organizations/atdta-stiftung-hilfe-zur-selbsthilfe\n",
      "https://stiftungen.stiftungschweiz.ch/organizations/dr-margrit-schoch-stiftung\n",
      "https://stiftungen.stiftungschweiz.ch/organizations/accenture-stiftung\n",
      "https://stiftungen.stiftungschweiz.ch/organizations/susanne-und-martin-knechtli-kradolfer-stiftung\n",
      "https://stiftungen.stiftungschweiz.ch/organizations/arthur-widmer-stiftung\n",
      "https://stiftungen.stiftungschweiz.ch/organizations/dr-max-rueegg-rotary-stiftung\n",
      "https://stiftungen.stiftungschweiz.ch/organizations/ernesto-bertarelli-foundation\n",
      "https://stiftungen.stiftungschweiz.ch/organizations/stiftung-katharina-und-tyge-clemmensen\n",
      "https://stiftungen.stiftungschweiz.ch/organizations/green-leaves-ausbildungs-stiftung\n",
      "https://stiftungen.stiftungschweiz.ch/organizations/asmallworld-foundation\n",
      "https://stiftungen.stiftungschweiz.ch/organizations/dalyan-stiftung\n",
      "https://stiftungen.stiftungschweiz.ch/organizations/drosos-stiftung\n",
      "https://stiftungen.stiftungschweiz.ch/organizations/caucasus-cooperation-foundation-for-youth-development\n",
      "https://stiftungen.stiftungschweiz.ch/organizations/max-kohler-stiftung\n",
      "https://stiftungen.stiftungschweiz.ch/organizations/tarbaca-indigo-foundation\n",
      "https://stiftungen.stiftungschweiz.ch/organizations/appsocial-org-stiftung\n",
      "https://stiftungen.stiftungschweiz.ch/organizations/kpmg-foundation\n",
      "https://stiftungen.stiftungschweiz.ch/organizations/stiftung-mercator-schweiz\n",
      "https://stiftungen.stiftungschweiz.ch/organizations/ernesto-bertarelli-foundation\n",
      "https://stiftungen.stiftungschweiz.ch/organizations/freunde-der-zedern-stiftung-tansania\n",
      "https://stiftungen.stiftungschweiz.ch/organizations/fondation-ondjyla\n",
      "https://stiftungen.stiftungschweiz.ch/organizations/blue-diamond-foundation\n",
      "https://stiftungen.stiftungschweiz.ch/organizations/irene-stiftung\n",
      "https://stiftungen.stiftungschweiz.ch/organizations/max-kohler-stiftung\n",
      "https://stiftungen.stiftungschweiz.ch/organizations/curti-stiftung\n",
      "https://stiftungen.stiftungschweiz.ch/organizations/beyond-foundation\n",
      "https://stiftungen.stiftungschweiz.ch/organizations/stiftung-edith-maryon\n",
      "https://stiftungen.stiftungschweiz.ch/organizations/stiftung-sostenuto\n",
      "https://stiftungen.stiftungschweiz.ch/organizations/stiftung-eleonora-susanna-fuer-den-natur-umwelt-und-tierschutz\n",
      "https://stiftungen.stiftungschweiz.ch/organizations/dr-bertold-suhner-stiftung-fuer-natur-tier-und-landschaftsschutz\n",
      "https://stiftungen.stiftungschweiz.ch/organizations/willy-und-margherit-woelfli-stiftung-fuer-den-natur-umwelt-und-tierschutz\n",
      "https://stiftungen.stiftungschweiz.ch/organizations/karl-zuend-stiftung\n",
      "https://stiftungen.stiftungschweiz.ch/organizations/reiner-stiftung\n",
      "https://stiftungen.stiftungschweiz.ch/organizations/pfyl-stiftung\n",
      "https://stiftungen.stiftungschweiz.ch/organizations/ernesto-bertarelli-foundation\n",
      "https://stiftungen.stiftungschweiz.ch/organizations/hans-und-marianne-schwyn-stiftung\n",
      "https://stiftungen.stiftungschweiz.ch/organizations/charlotte-und-nelly-dornacher-stiftung\n",
      "https://stiftungen.stiftungschweiz.ch/organizations/beatrice-ederer-weber-stiftung\n",
      "https://stiftungen.stiftungschweiz.ch/organizations/credis-stiftung\n",
      "https://stiftungen.stiftungschweiz.ch/organizations/hermann-und-christel-fuchs-stiftung\n",
      "https://stiftungen.stiftungschweiz.ch/organizations/youthaid-foundation\n",
      "https://stiftungen.stiftungschweiz.ch/organizations/cavendish-charitable-foundation\n",
      "https://stiftungen.stiftungschweiz.ch/organizations/susanne-und-martin-knechtli-kradolfer-stiftung\n",
      "https://stiftungen.stiftungschweiz.ch/organizations/ancor-stiftung\n"
     ]
    },
    {
     "output_type": "error",
     "ename": "KeyboardInterrupt",
     "evalue": "",
     "traceback": [
      "\u001b[0;31m---------------------------------------------------------------------------\u001b[0m",
      "\u001b[0;31mKeyboardInterrupt\u001b[0m                         Traceback (most recent call last)",
      "\u001b[0;32m<ipython-input-97-078ff3bdf508>\u001b[0m in \u001b[0;36m<module>\u001b[0;34m\u001b[0m\n\u001b[1;32m      4\u001b[0m \u001b[0;32mfor\u001b[0m \u001b[0murl\u001b[0m \u001b[0;32min\u001b[0m \u001b[0morg_url\u001b[0m\u001b[0;34m:\u001b[0m\u001b[0;34m\u001b[0m\u001b[0m\n\u001b[1;32m      5\u001b[0m     \u001b[0mdriver\u001b[0m\u001b[0;34m.\u001b[0m\u001b[0mget\u001b[0m\u001b[0;34m(\u001b[0m\u001b[0murl\u001b[0m\u001b[0;34m)\u001b[0m\u001b[0;34m\u001b[0m\u001b[0m\n\u001b[0;32m----> 6\u001b[0;31m     \u001b[0mtime\u001b[0m\u001b[0;34m.\u001b[0m\u001b[0msleep\u001b[0m\u001b[0;34m(\u001b[0m\u001b[0;36m2.1\u001b[0m\u001b[0;34m)\u001b[0m\u001b[0;34m\u001b[0m\u001b[0m\n\u001b[0m\u001b[1;32m      7\u001b[0m     \u001b[0mprint\u001b[0m\u001b[0;34m(\u001b[0m\u001b[0murl\u001b[0m\u001b[0;34m)\u001b[0m\u001b[0;34m\u001b[0m\u001b[0m\n\u001b[1;32m      8\u001b[0m     \u001b[0mhtml\u001b[0m \u001b[0;34m=\u001b[0m \u001b[0mdriver\u001b[0m\u001b[0;34m.\u001b[0m\u001b[0mpage_source\u001b[0m\u001b[0;34m\u001b[0m\u001b[0m\n",
      "\u001b[0;31mKeyboardInterrupt\u001b[0m: "
     ]
    }
   ],
   "source": [
    "# add all urls to org_url list (this only seems possible when using an actual browser)\n",
    "# use regex to extract data from HTML\n",
    "# paste all data into org_data\n",
    "for url in org_url:\n",
    "    driver.get(url)\n",
    "    time.sleep(2.1)\n",
    "    print(url)\n",
    "    html = driver.page_source\n",
    "    org = re.findall(re.compile(r\"(?<= organization: )(.*)(?=,.*jobs:)\", re.DOTALL), html)\n",
    "    dict_org = json.loads(org[0])\n",
    "    topics = re.findall(re.compile(r\"(?<=nksList: )(.*)(?=,.*nksParentNames:)\", re.DOTALL), r.text)\n",
    "    dict_topics = json.loads(topics[0])\n",
    "    \n",
    "    topics = []\n",
    "    for key, value in dict_topics['2'].items():\n",
    "        for topic in value:\n",
    "            topics.append(topic['name'])\n",
    "\n",
    "    people = re.findall(re.compile(r\"(?<=people: )(.*)(?=,.*projects: \\[\\],)\", re.DOTALL), r.text)\n",
    "    people = json.loads(people[0])\n",
    "\n",
    "    dict_people = {}\n",
    "    for dict_pers in people:\n",
    "        dict_people[dict_pers['organization_function']['de']] = dict_pers['fulldata']\n",
    "\n",
    "    org_data = org_data.append({\n",
    "        'foundation': dict_org['title'],\n",
    "        'website' : dict_org['site'],\n",
    "        'phone' : dict_org['phone'],\n",
    "        'adress_street' : dict_org['address_street'],\n",
    "        'address_house_number' : dict_org['address_house_number'],\n",
    "        'address_postal_code' : dict_org['address_postal_code'], \n",
    "        'address_city' : dict_org['address_city'], \n",
    "        'scope' : [area['location'] for area in dict_org['areas']],\n",
    "        'topics' : topics,\n",
    "        'targets': [target['name'] for target in dict_topics['3'][0]],\n",
    "        'people' : dict_people\n",
    "\n",
    "                    }, \n",
    "                    ignore_index = True)\n",
    "\n",
    "    for element in driver.find_elements_by_xpath(\"//a[@class='proj-item']\"):\n",
    "        if element.get_attribute('href') not in org_url:\n",
    "            org_url.append(element.get_attribute('href'))"
   ]
  },
  {
   "cell_type": "code",
   "execution_count": null,
   "metadata": {},
   "outputs": [],
   "source": [
    "org_data"
   ]
  },
  {
   "cell_type": "code",
   "execution_count": null,
   "metadata": {},
   "outputs": [],
   "source": [
    "org_data.to_csv('Foundations_CH.csv', index = False)"
   ]
  },
  {
   "source": [
    "# Trial and Error with Beautiful Soup etc."
   ],
   "cell_type": "markdown",
   "metadata": {}
  },
  {
   "cell_type": "code",
   "execution_count": 46,
   "metadata": {},
   "outputs": [
    {
     "output_type": "stream",
     "name": "stdout",
     "text": [
      "<selenium.webdriver.remote.webelement.WebElement (session=\"2e2b1548572af4fe4003940c6dddf5cb\", element=\"f71e6792-8092-4293-a1cd-35930c7005b7\")>\n<selenium.webdriver.remote.webelement.WebElement (session=\"2e2b1548572af4fe4003940c6dddf5cb\", element=\"b9830347-bf10-41aa-98e5-e9bdf9a316e7\")>\n<selenium.webdriver.remote.webelement.WebElement (session=\"2e2b1548572af4fe4003940c6dddf5cb\", element=\"3e8a8d79-78e4-40ae-9dc9-e1137e4d62e5\")>\n<selenium.webdriver.remote.webelement.WebElement (session=\"2e2b1548572af4fe4003940c6dddf5cb\", element=\"dd4a52a3-8876-453d-8325-ea3873c26bd7\")>\n<selenium.webdriver.remote.webelement.WebElement (session=\"2e2b1548572af4fe4003940c6dddf5cb\", element=\"d8372cd4-983e-47c2-b6b2-f09c86b057ab\")>\n<selenium.webdriver.remote.webelement.WebElement (session=\"2e2b1548572af4fe4003940c6dddf5cb\", element=\"9083f758-9793-4751-927a-19896c75005b\")>\n<selenium.webdriver.remote.webelement.WebElement (session=\"2e2b1548572af4fe4003940c6dddf5cb\", element=\"a86608b2-0ab9-4f1a-b4d5-6846fbf0d19d\")>\n<selenium.webdriver.remote.webelement.WebElement (session=\"2e2b1548572af4fe4003940c6dddf5cb\", element=\"7aeb7106-e0f3-4e9b-90a9-238af086d232\")>\n<selenium.webdriver.remote.webelement.WebElement (session=\"2e2b1548572af4fe4003940c6dddf5cb\", element=\"fef9560d-e2ea-4b8c-b6a0-c0067fe2db80\")>\n<selenium.webdriver.remote.webelement.WebElement (session=\"2e2b1548572af4fe4003940c6dddf5cb\", element=\"98848914-de65-4590-805e-4572bf2bf8c5\")>\n"
     ]
    }
   ],
   "source": [
    " for each_org in org_list:\n",
    "    # Getting link:\n",
    "    org_link = each_org.find_elements_by_xpath(\"//href\")\n",
    "    print(each_org)\n",
    "    #job_info = [job_title.text, job_company.text, job_location.text, job_summary.text, job_publish_date.text]\n",
    "    # Saving into job_details\n",
    "    org_details.append(org_link)\n",
    "driver.quit()"
   ]
  },
  {
   "cell_type": "code",
   "execution_count": 32,
   "metadata": {
    "ExecuteTime": {
     "end_time": "2020-10-31T08:30:50.600051Z",
     "start_time": "2020-10-31T08:30:50.287836Z"
    }
   },
   "outputs": [
    {
     "output_type": "stream",
     "name": "stdout",
     "text": [
      "foundation: Annette ten Zeldam Stiftung | info: Annette ten Zeldam Stiftung | purpose:  Die Stiftung bezweckt die finanzielle Unterstützung von Institutionen und Organisationen gemeinnütziger oder wohltätiger Art, welche sich insbesondere um sozial, körperlich oder seelisch benachteiligte Kinder sowie um den weltweiten Fairnessgedanken im Arbeits- und Sozialbereich kümmern. Der Wirkungskreis der Stiftung erstreckt sich über die Schweiz hinaus. Die Stiftung hat gemeinnützigen Charakter und verfolgt keinerlei Erwerbszweck.\n"
     ]
    },
    {
     "output_type": "execute_result",
     "data": {
      "text/plain": [
       "[]"
      ]
     },
     "metadata": {},
     "execution_count": 32
    }
   ],
   "source": [
    "url = 'https://stiftungen.stiftungschweiz.ch/organizations/annette-ten-zeldam-stiftung'\n",
    "\n",
    "\n",
    "r = requests.get(url)\n",
    "\n",
    "doc = BeautifulSoup(r.text, \"html.parser\")\n",
    "\n",
    "foundation = doc.select_one(\".d-none h2 span\").text\n",
    "info = doc.select_one(\".d-none h2 span\").text\n",
    "purpose = doc.select_one(\".d-none p\").text\n",
    "link = doc.select(\".slick-active a\")\n",
    "\n",
    "#topics = doc.find_all('script')\n",
    "print('foundation: ' + foundation + \n",
    "                            ' | info: ' + info +\n",
    "                            ' | purpose: ' + purpose)\n",
    "\n",
    "link"
   ]
  },
  {
   "cell_type": "code",
   "execution_count": 67,
   "metadata": {
    "ExecuteTime": {
     "end_time": "2020-10-31T08:24:12.246194Z",
     "start_time": "2020-10-31T08:24:12.213350Z"
    }
   },
   "outputs": [
    {
     "data": {
      "text/plain": [
       "['{\"id\":\"19252\",\"slug\":\"annette-ten-zeldam-stiftung\",\"slug_id\":\"19252-annette-ten-zeldam-stiftung\",\"title\":\"Annette ten Zeldam Stiftung\",\"effective_type\":1,\"legal_type\":1,\"site\":null,\"phone\":null,\"email\":null,\"address_street\":\"Hirschg\\\\u00e4sslein\",\"address_house_number\":\"30\",\"address_postal_code\":4051,\"address_city\":\"Basel\",\"address_line_2\":\"c\\\\/o NEOVIUS AG\",\"address_country\":\"CH\",\"address_note\":null,\"show_address_note\":0,\"custom_address_street\":null,\"custom_address_house_number\":null,\"custom_address_postal_code\":null,\"custom_address_city\":null,\"custom_address_line_2\":null,\"custom_address_country\":null,\"summary\":null,\"strategy\":null,\"goal\":null,\"purpose_zefix\":\"Die Stiftung bezweckt die finanzielle Unterst\\\\u00fctzung von Institutionen und Organisationen gemeinn\\\\u00fctziger oder wohlt\\\\u00e4tiger Art, welche sich insbesondere um sozial, k\\\\u00f6rperlich oder seelisch benachteiligte Kinder sowie um den weltweiten Fairnessgedanken im Arbeits- und Sozialbereich k\\\\u00fcmmern. Der Wirkungskreis der Stiftung erstreckt sich \\\\u00fcber die Schweiz hinaus. Die Stiftung hat gemeinn\\\\u00fctzigen Charakter und verfolgt keinerlei Erwerbszweck.\",\"app_form\":null,\"costs\":null,\"financing\":null,\"financial_policy\":null,\"grant_criteria\":null,\"requirements\":null,\"deadline\":null,\"deadline_2\":null,\"deadline_3\":null,\"deadline_4\":null,\"deadline_5\":null,\"deadline_6\":null,\"images_urls\":{\"image\":{\"image\":null,\"preview\":null},\"image_header\":{\"image\":null,\"preview\":null}},\"image_header\":null,\"image_header_preview\":null,\"grant_stop_date\":null,\"grant_stop_area\":null,\"founding_date_formatted\":{\"date\":\"2020-08-28 00:00:00.000000\",\"timezone_type\":3,\"timezone\":\"UTC\"},\"status\":\"public\",\"contact_first_name\":null,\"contact_last_name\":null,\"contact_function\":null,\"contact_salutation\":null,\"contact_email\":null,\"hidden_email\":true,\"auditor\":true,\"created_at\":{\"date\":\"2020-09-20 01:01:45.000000\",\"timezone_type\":3,\"timezone\":\"UTC\"},\"updated_at\":{\"date\":\"2020-09-22 14:08:08.000000\",\"timezone_type\":3,\"timezone\":\"UTC\"},\"deleted_at\":null,\"video_url\":null,\"attachment\":[],\"bank_info\":null,\"lat\":47.551114,\"lng\":7.592932,\"areas\":[{\"id\":23151,\"organization_id\":19252,\"location\":\"Schweiz\",\"lng\":8.227511999999999,\"lat\":46.818188,\"created_at\":\"2020-09-22 14:08:15\",\"updated_at\":\"2020-09-22 14:08:15\",\"deleted_at\":null,\"southwest_lat\":45.81792,\"southwest_lng\":5.95608,\"northeast_lat\":47.8084546,\"northeast_lng\":10.4923401}],\"hr_nr\":\"CH27070033105\",\"whoFunded\":[],\"authorities\":\"0\",\"stopped_to_accept_grant_requests\":false,\"tax_exemption\":true,\"has_managing_account\":false,\"can_receive_grant_request_via_system\":false,\"interests\":[],\"hr_user_sent\":false,\"hr_any_accepted\":false,\"hr_user_accepted\":false,\"youtubeVideoId\":null,\"vimeoVideoId\":null}']"
      ]
     },
     "execution_count": 67,
     "metadata": {},
     "output_type": "execute_result"
    }
   ],
   "source": [
    "org = re.findall(re.compile(r\"(?<= organization: )(.*)(?=,.*jobs:)\", re.DOTALL), r.text)\n",
    "org"
   ]
  },
  {
   "cell_type": "code",
   "execution_count": 68,
   "metadata": {
    "ExecuteTime": {
     "end_time": "2020-10-31T08:24:12.836186Z",
     "start_time": "2020-10-31T08:24:12.828840Z"
    }
   },
   "outputs": [
    {
     "data": {
      "text/plain": [
       "{'id': '19252',\n",
       " 'slug': 'annette-ten-zeldam-stiftung',\n",
       " 'slug_id': '19252-annette-ten-zeldam-stiftung',\n",
       " 'title': 'Annette ten Zeldam Stiftung',\n",
       " 'effective_type': 1,\n",
       " 'legal_type': 1,\n",
       " 'site': None,\n",
       " 'phone': None,\n",
       " 'email': None,\n",
       " 'address_street': 'Hirschgässlein',\n",
       " 'address_house_number': '30',\n",
       " 'address_postal_code': 4051,\n",
       " 'address_city': 'Basel',\n",
       " 'address_line_2': 'c/o NEOVIUS AG',\n",
       " 'address_country': 'CH',\n",
       " 'address_note': None,\n",
       " 'show_address_note': 0,\n",
       " 'custom_address_street': None,\n",
       " 'custom_address_house_number': None,\n",
       " 'custom_address_postal_code': None,\n",
       " 'custom_address_city': None,\n",
       " 'custom_address_line_2': None,\n",
       " 'custom_address_country': None,\n",
       " 'summary': None,\n",
       " 'strategy': None,\n",
       " 'goal': None,\n",
       " 'purpose_zefix': 'Die Stiftung bezweckt die finanzielle Unterstützung von Institutionen und Organisationen gemeinnütziger oder wohltätiger Art, welche sich insbesondere um sozial, körperlich oder seelisch benachteiligte Kinder sowie um den weltweiten Fairnessgedanken im Arbeits- und Sozialbereich kümmern. Der Wirkungskreis der Stiftung erstreckt sich über die Schweiz hinaus. Die Stiftung hat gemeinnützigen Charakter und verfolgt keinerlei Erwerbszweck.',\n",
       " 'app_form': None,\n",
       " 'costs': None,\n",
       " 'financing': None,\n",
       " 'financial_policy': None,\n",
       " 'grant_criteria': None,\n",
       " 'requirements': None,\n",
       " 'deadline': None,\n",
       " 'deadline_2': None,\n",
       " 'deadline_3': None,\n",
       " 'deadline_4': None,\n",
       " 'deadline_5': None,\n",
       " 'deadline_6': None,\n",
       " 'images_urls': {'image': {'image': None, 'preview': None},\n",
       "  'image_header': {'image': None, 'preview': None}},\n",
       " 'image_header': None,\n",
       " 'image_header_preview': None,\n",
       " 'grant_stop_date': None,\n",
       " 'grant_stop_area': None,\n",
       " 'founding_date_formatted': {'date': '2020-08-28 00:00:00.000000',\n",
       "  'timezone_type': 3,\n",
       "  'timezone': 'UTC'},\n",
       " 'status': 'public',\n",
       " 'contact_first_name': None,\n",
       " 'contact_last_name': None,\n",
       " 'contact_function': None,\n",
       " 'contact_salutation': None,\n",
       " 'contact_email': None,\n",
       " 'hidden_email': True,\n",
       " 'auditor': True,\n",
       " 'created_at': {'date': '2020-09-20 01:01:45.000000',\n",
       "  'timezone_type': 3,\n",
       "  'timezone': 'UTC'},\n",
       " 'updated_at': {'date': '2020-09-22 14:08:08.000000',\n",
       "  'timezone_type': 3,\n",
       "  'timezone': 'UTC'},\n",
       " 'deleted_at': None,\n",
       " 'video_url': None,\n",
       " 'attachment': [],\n",
       " 'bank_info': None,\n",
       " 'lat': 47.551114,\n",
       " 'lng': 7.592932,\n",
       " 'areas': [{'id': 23151,\n",
       "   'organization_id': 19252,\n",
       "   'location': 'Schweiz',\n",
       "   'lng': 8.227511999999999,\n",
       "   'lat': 46.818188,\n",
       "   'created_at': '2020-09-22 14:08:15',\n",
       "   'updated_at': '2020-09-22 14:08:15',\n",
       "   'deleted_at': None,\n",
       "   'southwest_lat': 45.81792,\n",
       "   'southwest_lng': 5.95608,\n",
       "   'northeast_lat': 47.8084546,\n",
       "   'northeast_lng': 10.4923401}],\n",
       " 'hr_nr': 'CH27070033105',\n",
       " 'whoFunded': [],\n",
       " 'authorities': '0',\n",
       " 'stopped_to_accept_grant_requests': False,\n",
       " 'tax_exemption': True,\n",
       " 'has_managing_account': False,\n",
       " 'can_receive_grant_request_via_system': False,\n",
       " 'interests': [],\n",
       " 'hr_user_sent': False,\n",
       " 'hr_any_accepted': False,\n",
       " 'hr_user_accepted': False,\n",
       " 'youtubeVideoId': None,\n",
       " 'vimeoVideoId': None}"
      ]
     },
     "execution_count": 68,
     "metadata": {},
     "output_type": "execute_result"
    }
   ],
   "source": [
    "dict_org = json.loads(org[0])\n",
    "dict_org"
   ]
  },
  {
   "cell_type": "code",
   "execution_count": 76,
   "metadata": {
    "ExecuteTime": {
     "end_time": "2020-10-31T08:26:35.050831Z",
     "start_time": "2020-10-31T08:26:35.045259Z"
    }
   },
   "outputs": [
    {
     "data": {
      "text/plain": [
       "'Basel'"
      ]
     },
     "execution_count": 76,
     "metadata": {},
     "output_type": "execute_result"
    }
   ],
   "source": [
    "dict_org['title']\n",
    "dict_org['site']\n",
    "dict_org['phone']\n",
    "dict_org['address_street']\n",
    "dict_org['address_house_number']\n",
    "dict_org['address_postal_code']\n",
    "dict_org['address_city']"
   ]
  },
  {
   "cell_type": "code",
   "execution_count": 70,
   "metadata": {
    "ExecuteTime": {
     "end_time": "2020-10-31T08:24:13.943766Z",
     "start_time": "2020-10-31T08:24:13.939389Z"
    }
   },
   "outputs": [
    {
     "name": "stdout",
     "output_type": "stream",
     "text": [
      "Schweiz\n"
     ]
    }
   ],
   "source": [
    "for area in dict_org['areas']:\n",
    "    print(area['location'])"
   ]
  },
  {
   "cell_type": "code",
   "execution_count": 71,
   "metadata": {
    "ExecuteTime": {
     "end_time": "2020-10-31T08:24:14.459019Z",
     "start_time": "2020-10-31T08:24:14.421396Z"
    }
   },
   "outputs": [
    {
     "data": {
      "text/plain": [
       "{'2': {'115': [{'id': 22,\n",
       "    'name': 'Soziales allgemein',\n",
       "    'name_en': 'Social general',\n",
       "    'name_de': 'Soziales allgemein',\n",
       "    'name_fr': 'Allgemein',\n",
       "    'kennziffer': '0301',\n",
       "    'nks_systemelemente_id': 2,\n",
       "    'order_by': 99999,\n",
       "    'parent_id': 115,\n",
       "    'parent_kennziffer': '0300',\n",
       "    'parent_name_en': 'Soziales (karitative Zwecke, Unterstützung Bedürftige)',\n",
       "    'parent_name_de': 'Soziales (karitative Zwecke, Unterstützung Bedürftige)',\n",
       "    'parent_name_fr': 'Soziales (karitative Zwecke, Unterstützung Bedürftige)',\n",
       "    'nks_systemelemente': {'id': 2,\n",
       "     'name': 'Themenbereich',\n",
       "     'name_en': 'Effect areas (with characteristics)',\n",
       "     'name_de': 'Themenbereich',\n",
       "     'name_fr': \"Domaines d'action (avec variantes)\",\n",
       "     'kennziffer': 'B'}}],\n",
       "  '110': [{'id': 57,\n",
       "    'name': 'Entwicklungszusammenarbeit allgemein',\n",
       "    'name_en': 'Entwicklungszusammenarbeit allgemein',\n",
       "    'name_de': 'Entwicklungszusammenarbeit allgemein',\n",
       "    'name_fr': 'Entwicklungszusammenarbeit allgemein',\n",
       "    'kennziffer': '0801',\n",
       "    'nks_systemelemente_id': 2,\n",
       "    'order_by': 99999,\n",
       "    'parent_id': 110,\n",
       "    'parent_kennziffer': '0800',\n",
       "    'parent_name_en': 'Entwicklungszusammenarbeit, humanitäre Hilfe',\n",
       "    'parent_name_de': 'Entwicklungszusammenarbeit, humanitäre Hilfe',\n",
       "    'parent_name_fr': 'Entwicklungszusammenarbeit, humanitäre Hilfe',\n",
       "    'nks_systemelemente': {'id': 2,\n",
       "     'name': 'Themenbereich',\n",
       "     'name_en': 'Effect areas (with characteristics)',\n",
       "     'name_de': 'Themenbereich',\n",
       "     'name_fr': \"Domaines d'action (avec variantes)\",\n",
       "     'kennziffer': 'B'}}],\n",
       "  '109': [{'id': 69,\n",
       "    'name': 'Politik, Gesellschaft, Wirtschaft verschiedenes ',\n",
       "    'name_en': 'Other',\n",
       "    'name_de': 'Politik, Gesellschaft, Wirtschaft verschiedenes ',\n",
       "    'name_fr': 'Autres',\n",
       "    'kennziffer': '0908',\n",
       "    'nks_systemelemente_id': 2,\n",
       "    'order_by': 99999,\n",
       "    'parent_id': 109,\n",
       "    'parent_kennziffer': '0900',\n",
       "    'parent_name_en': 'Politik, Gesellschaft, Wirtschaft',\n",
       "    'parent_name_de': 'Politik, Gesellschaft, Wirtschaft',\n",
       "    'parent_name_fr': 'Politique, société, économie',\n",
       "    'nks_systemelemente': {'id': 2,\n",
       "     'name': 'Themenbereich',\n",
       "     'name_en': 'Effect areas (with characteristics)',\n",
       "     'name_de': 'Themenbereich',\n",
       "     'name_fr': \"Domaines d'action (avec variantes)\",\n",
       "     'kennziffer': 'B'}}]},\n",
       " '3': [[{'id': 73,\n",
       "    'name': 'Offen/alle',\n",
       "    'name_en': 'Open / All',\n",
       "    'name_de': 'Offen/alle',\n",
       "    'name_fr': 'Ouvert/tous',\n",
       "    'kennziffer': '0001',\n",
       "    'nks_systemelemente_id': 3,\n",
       "    'order_by': 99999,\n",
       "    'parent_id': 0,\n",
       "    'parent_kennziffer': None,\n",
       "    'parent_name_en': None,\n",
       "    'parent_name_de': None,\n",
       "    'parent_name_fr': None,\n",
       "    'nks_systemelemente': {'id': 3,\n",
       "     'name': 'Zielgruppe',\n",
       "     'name_en': 'Target groups (beneficiaries)',\n",
       "     'name_de': 'Zielgruppe',\n",
       "     'name_fr': 'Groupes-cibles (bénéficiaires)',\n",
       "     'kennziffer': 'C'}},\n",
       "   {'id': 74,\n",
       "    'name': 'Kinder',\n",
       "    'name_en': 'Children',\n",
       "    'name_de': 'Kinder',\n",
       "    'name_fr': 'Enfants',\n",
       "    'kennziffer': '0002',\n",
       "    'nks_systemelemente_id': 3,\n",
       "    'order_by': 99999,\n",
       "    'parent_id': 0,\n",
       "    'parent_kennziffer': None,\n",
       "    'parent_name_en': None,\n",
       "    'parent_name_de': None,\n",
       "    'parent_name_fr': None,\n",
       "    'nks_systemelemente': {'id': 3,\n",
       "     'name': 'Zielgruppe',\n",
       "     'name_en': 'Target groups (beneficiaries)',\n",
       "     'name_de': 'Zielgruppe',\n",
       "     'name_fr': 'Groupes-cibles (bénéficiaires)',\n",
       "     'kennziffer': 'C'}},\n",
       "   {'id': 84,\n",
       "    'name': 'Menschen mit körperlicher und/oder geistiger Beeinträchtigung',\n",
       "    'name_en': 'People With Physical And Mental Disabilities',\n",
       "    'name_de': 'Menschen mit körperlicher und/oder geistiger Beeinträchtigung',\n",
       "    'name_fr': 'Personnes avec déficience physique et mentale',\n",
       "    'kennziffer': '0012',\n",
       "    'nks_systemelemente_id': 3,\n",
       "    'order_by': 99999,\n",
       "    'parent_id': 0,\n",
       "    'parent_kennziffer': None,\n",
       "    'parent_name_en': None,\n",
       "    'parent_name_de': None,\n",
       "    'parent_name_fr': None,\n",
       "    'nks_systemelemente': {'id': 3,\n",
       "     'name': 'Zielgruppe',\n",
       "     'name_en': 'Target groups (beneficiaries)',\n",
       "     'name_de': 'Zielgruppe',\n",
       "     'name_fr': 'Groupes-cibles (bénéficiaires)',\n",
       "     'kennziffer': 'C'}},\n",
       "   {'id': 87,\n",
       "    'name': 'Kranke (z.B. psychisch und physisch akut Kranke, Suchtkranke)',\n",
       "    'name_en': 'Ill / Nursing Care In General',\n",
       "    'name_de': 'Kranke (z.B. psychisch und physisch akut Kranke, Suchtkranke)',\n",
       "    'name_fr': 'Malades/Personnes dépendantes, généralités',\n",
       "    'kennziffer': '0013',\n",
       "    'nks_systemelemente_id': 3,\n",
       "    'order_by': 99999,\n",
       "    'parent_id': 0,\n",
       "    'parent_kennziffer': None,\n",
       "    'parent_name_en': None,\n",
       "    'parent_name_de': None,\n",
       "    'parent_name_fr': None,\n",
       "    'nks_systemelemente': {'id': 3,\n",
       "     'name': 'Zielgruppe',\n",
       "     'name_en': 'Target groups (beneficiaries)',\n",
       "     'name_de': 'Zielgruppe',\n",
       "     'name_fr': 'Groupes-cibles (bénéficiaires)',\n",
       "     'kennziffer': 'C'}}]],\n",
       " '4': [[{'id': 94,\n",
       "    'name': 'Schweiz',\n",
       "    'name_en': 'Switzerland',\n",
       "    'name_de': 'Schweiz',\n",
       "    'name_fr': 'Santé',\n",
       "    'kennziffer': '0001',\n",
       "    'nks_systemelemente_id': 4,\n",
       "    'order_by': 99999,\n",
       "    'parent_id': 0,\n",
       "    'parent_kennziffer': None,\n",
       "    'parent_name_en': None,\n",
       "    'parent_name_de': None,\n",
       "    'parent_name_fr': None,\n",
       "    'nks_systemelemente': {'id': 4,\n",
       "     'name': 'Wirkungsgebiete',\n",
       "     'name_en': 'Affected areas',\n",
       "     'name_de': 'Wirkungsgebiete',\n",
       "     'name_fr': \"Champs d'action géographiques\",\n",
       "     'kennziffer': 'D'}},\n",
       "   {'id': 148,\n",
       "    'name': 'Ausland: International generell',\n",
       "    'name_en': 'Ausland: International generell',\n",
       "    'name_de': 'Ausland: International generell',\n",
       "    'name_fr': \"À l'étranger : l'international en général\",\n",
       "    'kennziffer': '0011',\n",
       "    'nks_systemelemente_id': 4,\n",
       "    'order_by': 99999,\n",
       "    'parent_id': 0,\n",
       "    'parent_kennziffer': None,\n",
       "    'parent_name_en': None,\n",
       "    'parent_name_de': None,\n",
       "    'parent_name_fr': None,\n",
       "    'nks_systemelemente': {'id': 4,\n",
       "     'name': 'Wirkungsgebiete',\n",
       "     'name_en': 'Affected areas',\n",
       "     'name_de': 'Wirkungsgebiete',\n",
       "     'name_fr': \"Champs d'action géographiques\",\n",
       "     'kennziffer': 'D'}}]]}"
      ]
     },
     "execution_count": 71,
     "metadata": {},
     "output_type": "execute_result"
    }
   ],
   "source": [
    "topics = re.findall(re.compile(r\"(?<=nksList: )(.*)(?=,.*nksParentNames:)\", re.DOTALL), r.text)\n",
    "dict_topics = json.loads(topics[0])\n",
    "dict_topics"
   ]
  },
  {
   "cell_type": "code",
   "execution_count": 72,
   "metadata": {
    "ExecuteTime": {
     "end_time": "2020-10-31T08:24:16.553215Z",
     "start_time": "2020-10-31T08:24:16.547915Z"
    }
   },
   "outputs": [
    {
     "name": "stdout",
     "output_type": "stream",
     "text": [
      "Soziales allgemein\n",
      "Entwicklungszusammenarbeit allgemein\n",
      "Politik, Gesellschaft, Wirtschaft verschiedenes \n"
     ]
    }
   ],
   "source": [
    "for key, value in dict_topics['2'].items():\n",
    "    for topic in value:\n",
    "        print(topic['name'])"
   ]
  },
  {
   "cell_type": "code",
   "execution_count": 73,
   "metadata": {
    "ExecuteTime": {
     "end_time": "2020-10-31T08:24:17.201274Z",
     "start_time": "2020-10-31T08:24:17.196002Z"
    }
   },
   "outputs": [
    {
     "name": "stdout",
     "output_type": "stream",
     "text": [
      "Offen/alle\n",
      "Kinder\n",
      "Menschen mit körperlicher und/oder geistiger Beeinträchtigung\n",
      "Kranke (z.B. psychisch und physisch akut Kranke, Suchtkranke)\n"
     ]
    }
   ],
   "source": [
    "for target in dict_topics['3'][0]:\n",
    "    print(target['name'])"
   ]
  },
  {
   "cell_type": "code",
   "execution_count": 74,
   "metadata": {
    "ExecuteTime": {
     "end_time": "2020-10-31T08:24:19.875015Z",
     "start_time": "2020-10-31T08:24:19.851626Z"
    }
   },
   "outputs": [
    {
     "data": {
      "text/plain": [
       "[{'id': 181706,\n",
       "  'merged_into': None,\n",
       "  'a_organization_id': 0,\n",
       "  'first_name': 'Peter',\n",
       "  'last_name': 'Göggel',\n",
       "  'full_name': 'Peter Göggel',\n",
       "  'email': None,\n",
       "  'phone': None,\n",
       "  'mobile_phone': None,\n",
       "  'web': None,\n",
       "  'country': 'Switzerland',\n",
       "  'location': 'Oberwil',\n",
       "  'canton': 'Basel-Landschaft',\n",
       "  'gender': None,\n",
       "  'postal_code': None,\n",
       "  'address': None,\n",
       "  'street_nr': None,\n",
       "  'company_name': None,\n",
       "  'title': '',\n",
       "  'function': 'member of the Foundation Board',\n",
       "  'localized_function': {'origin': 'member of the Foundation Board',\n",
       "   'en': None,\n",
       "   'de': 'Mitglied des Stiftungsrates',\n",
       "   'fr': None,\n",
       "   'it': None},\n",
       "  'organization_function': {'origin': 'member of the Foundation Board',\n",
       "   'en': None,\n",
       "   'de': 'Mitglied des Stiftungsrates',\n",
       "   'fr': None,\n",
       "   'it': None},\n",
       "  'from': ' von Luzern',\n",
       "  'in': ' in Oberwil (BL)',\n",
       "  'fulldata': 'Göggel, Peter, von Luzern, in Oberwil (BL)',\n",
       "  'check': False,\n",
       "  'private': None,\n",
       "  'datasource_id': 'SHAB',\n",
       "  'zefix_id': 122238,\n",
       "  'auditor': None,\n",
       "  'created_at': {'date': '2020-09-20 01:01:46.000000',\n",
       "   'timezone_type': 3,\n",
       "   'timezone': 'UTC'},\n",
       "  'updated_at': {'date': '2020-09-20 01:01:46.000000',\n",
       "   'timezone_type': 3,\n",
       "   'timezone': 'UTC'},\n",
       "  'deleted_at': None},\n",
       " {'id': 181707,\n",
       "  'merged_into': None,\n",
       "  'a_organization_id': 0,\n",
       "  'first_name': 'Annette',\n",
       "  'last_name': 'Braun',\n",
       "  'full_name': 'Annette Braun',\n",
       "  'email': None,\n",
       "  'phone': None,\n",
       "  'mobile_phone': None,\n",
       "  'web': None,\n",
       "  'country': 'Switzerland',\n",
       "  'location': 'Dornach',\n",
       "  'canton': 'Solothurn',\n",
       "  'gender': None,\n",
       "  'postal_code': None,\n",
       "  'address': None,\n",
       "  'street_nr': None,\n",
       "  'company_name': None,\n",
       "  'title': '',\n",
       "  'function': 'member of the Foundation Board',\n",
       "  'localized_function': {'origin': 'member of the Foundation Board',\n",
       "   'en': None,\n",
       "   'de': 'Mitglied des Stiftungsrates',\n",
       "   'fr': None,\n",
       "   'it': None},\n",
       "  'organization_function': {'origin': 'member of the Foundation Board',\n",
       "   'en': None,\n",
       "   'de': 'Mitglied des Stiftungsrates',\n",
       "   'fr': None,\n",
       "   'it': None},\n",
       "  'from': ' von Basel',\n",
       "  'in': ' in Dornach',\n",
       "  'fulldata': 'Braun, Annette, von Basel, in Dornach',\n",
       "  'check': False,\n",
       "  'private': None,\n",
       "  'datasource_id': 'SHAB',\n",
       "  'zefix_id': 122239,\n",
       "  'auditor': None,\n",
       "  'created_at': {'date': '2020-09-20 01:01:46.000000',\n",
       "   'timezone_type': 3,\n",
       "   'timezone': 'UTC'},\n",
       "  'updated_at': {'date': '2020-09-20 01:01:46.000000',\n",
       "   'timezone_type': 3,\n",
       "   'timezone': 'UTC'},\n",
       "  'deleted_at': None},\n",
       " {'id': 181708,\n",
       "  'merged_into': None,\n",
       "  'a_organization_id': 0,\n",
       "  'first_name': None,\n",
       "  'last_name': None,\n",
       "  'full_name': '',\n",
       "  'email': None,\n",
       "  'phone': None,\n",
       "  'mobile_phone': None,\n",
       "  'web': None,\n",
       "  'country': 'Switzerland',\n",
       "  'location': 'Zürich',\n",
       "  'canton': 'Zurich',\n",
       "  'gender': None,\n",
       "  'postal_code': None,\n",
       "  'address': None,\n",
       "  'street_nr': None,\n",
       "  'company_name': 'BGS Wirtschaftsprüfungs AG (CHE-205.618.556)',\n",
       "  'title': None,\n",
       "  'function': 'auditor',\n",
       "  'localized_function': {'origin': 'auditor',\n",
       "   'en': None,\n",
       "   'de': 'Auditor',\n",
       "   'fr': None,\n",
       "   'it': None},\n",
       "  'organization_function': {'origin': 'auditor',\n",
       "   'en': None,\n",
       "   'de': 'Auditor',\n",
       "   'fr': None,\n",
       "   'it': None},\n",
       "  'from': None,\n",
       "  'in': ' in Zürich',\n",
       "  'fulldata': 'BGS Wirtschaftsprüfungs AG (CHE-205.618.556), in Zürich',\n",
       "  'check': False,\n",
       "  'private': None,\n",
       "  'datasource_id': 'SHAB',\n",
       "  'zefix_id': 122240,\n",
       "  'auditor': 'Auditor',\n",
       "  'created_at': {'date': '2020-09-20 01:01:47.000000',\n",
       "   'timezone_type': 3,\n",
       "   'timezone': 'UTC'},\n",
       "  'updated_at': {'date': '2020-09-20 01:01:47.000000',\n",
       "   'timezone_type': 3,\n",
       "   'timezone': 'UTC'},\n",
       "  'deleted_at': None},\n",
       " {'id': 78917,\n",
       "  'merged_into': None,\n",
       "  'a_organization_id': 0,\n",
       "  'first_name': 'Rolf',\n",
       "  'last_name': 'Hamburger',\n",
       "  'full_name': 'Rolf Hamburger',\n",
       "  'email': None,\n",
       "  'phone': None,\n",
       "  'mobile_phone': None,\n",
       "  'web': None,\n",
       "  'country': None,\n",
       "  'location': None,\n",
       "  'canton': None,\n",
       "  'gender': None,\n",
       "  'postal_code': None,\n",
       "  'address': None,\n",
       "  'street_nr': None,\n",
       "  'company_name': None,\n",
       "  'title': '',\n",
       "  'function': 'president of the committee of founding',\n",
       "  'localized_function': {'origin': 'president of the committee of founding',\n",
       "   'en': None,\n",
       "   'de': 'Präsident des Stiftungsrates',\n",
       "   'fr': None,\n",
       "   'it': None},\n",
       "  'organization_function': {'origin': 'president of the committee of founding',\n",
       "   'en': None,\n",
       "   'de': 'Präsident des Stiftungsrates',\n",
       "   'fr': None,\n",
       "   'it': None},\n",
       "  'from': ' von Gaiserwald',\n",
       "  'in': ' in St. Gallen',\n",
       "  'fulldata': 'Hamburger, Rolf, von Gaiserwald, in St. Gallen',\n",
       "  'check': False,\n",
       "  'private': None,\n",
       "  'datasource_id': 'SHAB',\n",
       "  'zefix_id': 25651,\n",
       "  'auditor': None,\n",
       "  'created_at': {'date': '2019-05-25 18:29:16.000000',\n",
       "   'timezone_type': 3,\n",
       "   'timezone': 'UTC'},\n",
       "  'updated_at': {'date': '2020-01-09 05:20:59.000000',\n",
       "   'timezone_type': 3,\n",
       "   'timezone': 'UTC'},\n",
       "  'deleted_at': None}]"
      ]
     },
     "execution_count": 74,
     "metadata": {},
     "output_type": "execute_result"
    }
   ],
   "source": [
    "people = re.findall(re.compile(r\"(?<=people: )(.*)(?=,.*projects: \\[\\],)\", re.DOTALL), r.text)\n",
    "people = json.loads(people[0])\n",
    "people"
   ]
  },
  {
   "cell_type": "code",
   "execution_count": 75,
   "metadata": {
    "ExecuteTime": {
     "end_time": "2020-10-31T08:24:20.715297Z",
     "start_time": "2020-10-31T08:24:20.707479Z"
    }
   },
   "outputs": [
    {
     "name": "stdout",
     "output_type": "stream",
     "text": [
      "Peter\n",
      "Göggel\n",
      "Mitglied des Stiftungsrates\n",
      "Göggel, Peter, von Luzern, in Oberwil (BL)\n",
      "Annette\n",
      "Braun\n",
      "Mitglied des Stiftungsrates\n",
      "Braun, Annette, von Basel, in Dornach\n",
      "None\n",
      "None\n",
      "Auditor\n",
      "BGS Wirtschaftsprüfungs AG (CHE-205.618.556), in Zürich\n",
      "Rolf\n",
      "Hamburger\n",
      "Präsident des Stiftungsrates\n",
      "Hamburger, Rolf, von Gaiserwald, in St. Gallen\n"
     ]
    }
   ],
   "source": [
    "for dict_pers in people:\n",
    "    print(dict_pers['first_name'])\n",
    "    print(dict_pers['last_name'])\n",
    "    print(dict_pers['organization_function']['de'])\n",
    "    print(dict_pers['fulldata'])"
   ]
  },
  {
   "cell_type": "code",
   "execution_count": null,
   "metadata": {},
   "outputs": [],
   "source": []
  },
  {
   "cell_type": "code",
   "execution_count": null,
   "metadata": {},
   "outputs": [],
   "source": []
  }
 ],
 "metadata": {
  "kernelspec": {
   "name": "Python 3.7.0 64-bit ('venv_notebooks')",
   "display_name": "Python 3.7.0 64-bit ('venv_notebooks')",
   "metadata": {
    "interpreter": {
     "hash": "8cf990669b246fbbcf5f5d845dd1b0df0a1ebf4a8106406fc218a08bd2bc7f8f"
    }
   }
  },
  "language_info": {
   "codemirror_mode": {
    "name": "ipython",
    "version": 3
   },
   "file_extension": ".py",
   "mimetype": "text/x-python",
   "name": "python",
   "nbconvert_exporter": "python",
   "pygments_lexer": "ipython3",
   "version": "3.7.0-final"
  },
  "toc": {
   "base_numbering": 1,
   "nav_menu": {},
   "number_sections": true,
   "sideBar": true,
   "skip_h1_title": false,
   "title_cell": "Table of Contents",
   "title_sidebar": "Contents",
   "toc_cell": false,
   "toc_position": {},
   "toc_section_display": true,
   "toc_window_display": false
  },
  "varInspector": {
   "cols": {
    "lenName": 16,
    "lenType": 16,
    "lenVar": 40
   },
   "kernels_config": {
    "python": {
     "delete_cmd_postfix": "",
     "delete_cmd_prefix": "del ",
     "library": "var_list.py",
     "varRefreshCmd": "print(var_dic_list())"
    },
    "r": {
     "delete_cmd_postfix": ") ",
     "delete_cmd_prefix": "rm(",
     "library": "var_list.r",
     "varRefreshCmd": "cat(var_dic_list()) "
    }
   },
   "types_to_exclude": [
    "module",
    "function",
    "builtin_function_or_method",
    "instance",
    "_Feature"
   ],
   "window_display": false
  }
 },
 "nbformat": 4,
 "nbformat_minor": 4
}