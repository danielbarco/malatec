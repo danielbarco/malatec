{
 "metadata": {
  "language_info": {
   "codemirror_mode": {
    "name": "ipython",
    "version": 3
   },
   "file_extension": ".py",
   "mimetype": "text/x-python",
   "name": "python",
   "nbconvert_exporter": "python",
   "pygments_lexer": "ipython3",
   "version": "3.7.3-final"
  },
  "orig_nbformat": 2,
  "kernelspec": {
   "name": "python3",
   "display_name": "Python 3"
  }
 },
 "nbformat": 4,
 "nbformat_minor": 2,
 "cells": [
  {
   "cell_type": "code",
   "execution_count": 25,
   "metadata": {},
   "outputs": [],
   "source": [
    "import os\n",
    "import glob\n",
    "import pandas as pd\n",
    "import xml.etree.ElementTree as ET\n",
    "from os import listdir\n",
    "from os.path import isfile, join\n",
    "import sys\n",
    "import cv2\n",
    "import matplotlib.pyplot as plt\n",
    "import matplotlib.image as mpimg\n",
    "import matplotlib.colors as colors\n",
    "import numpy as np\n",
    "from matplotlib.patches import Polygon\n",
    "from matplotlib.collections import PatchCollection\n",
    "#import matplotlib\n",
    "from PIL import Image, ImageDraw\n",
    "from sklearn.metrics import average_precision_score\n",
    "from sklearn.metrics import precision_recall_curve\n",
    "from sklearn.metrics import plot_precision_recall_curve\n",
    "from matplotlib import pyplot\n",
    "from shapely.geometry.polygon import LinearRing, Polygon\n",
    "# from multiprocessing import Pool\n",
    "import multiprocessing\n",
    "import time\n",
    "import random\n",
    "from scipy.spatial import ConvexHull\n",
    "sys.path.insert(0, os.path.dirname(os.path.abspath('.'))) # to make imports relative to project root work\n"
   ]
  },
  {
   "cell_type": "code",
   "execution_count": 6,
   "metadata": {},
   "outputs": [
    {
     "output_type": "execute_result",
     "data": {
      "text/plain": [
       "         ?         cell     comment annotation_type  ??  \\\n",
       "0      1-1   Uninfected  No_comment         Polygon  17   \n",
       "1      1-2   Uninfected  No_comment         Polygon  16   \n",
       "2      1-3   Uninfected  No_comment         Polygon  18   \n",
       "3      1-4   Uninfected  No_comment         Polygon  16   \n",
       "4      1-5   Uninfected  No_comment         Polygon  19   \n",
       "..     ...          ...         ...             ...  ..   \n",
       "166  4-167  Parasitized  No_comment         Polygon  25   \n",
       "167  4-168  Parasitized  No_comment         Polygon  21   \n",
       "168  4-169  Parasitized  No_comment         Polygon  20   \n",
       "169  4-170  Parasitized  No_comment         Polygon  20   \n",
       "170  4-171  Parasitized  No_comment         Polygon  17   \n",
       "\n",
       "                                              position             filename  \\\n",
       "0    [(3199, 2214), (3216, 2216), (3232, 2218), (32...  IMG_20151106_112252   \n",
       "1    [(3193, 2345), (3210, 2341), (3228, 2343), (32...  IMG_20151106_112252   \n",
       "2    [(3088, 2134), (3105, 2135), (3131, 2145), (31...  IMG_20151106_112252   \n",
       "3    [(3053, 2267), (3072, 2269), (3092, 2274), (31...  IMG_20151106_112252   \n",
       "4    [(3342, 2261), (3360, 2260), (3380, 2269), (34...  IMG_20151106_112252   \n",
       "..                                                 ...                  ...   \n",
       "166  [(2399, 383), (2404, 363), (2412, 351), (2426,...  IMG_20151004_131030   \n",
       "167  [(3522, 2250), (3536, 2230), (3563, 2215), (35...  IMG_20151004_131030   \n",
       "168  [(3321, 2138), (3335, 2114), (3347, 2103), (33...  IMG_20151004_131030   \n",
       "169  [(3433, 1867), (3441, 1845), (3455, 1831), (34...  IMG_20151004_131030   \n",
       "170  [(1432, 1762), (1438, 1739), (1456, 1719), (14...  IMG_20151004_131030   \n",
       "\n",
       "                                              txt_path  \\\n",
       "0    ../NIH-NLM-ThinBloodSmearsPf/Polygon Set/306C2...   \n",
       "1    ../NIH-NLM-ThinBloodSmearsPf/Polygon Set/306C2...   \n",
       "2    ../NIH-NLM-ThinBloodSmearsPf/Polygon Set/306C2...   \n",
       "3    ../NIH-NLM-ThinBloodSmearsPf/Polygon Set/306C2...   \n",
       "4    ../NIH-NLM-ThinBloodSmearsPf/Polygon Set/306C2...   \n",
       "..                                                 ...   \n",
       "166  ../NIH-NLM-ThinBloodSmearsPf/Polygon Set/276C1...   \n",
       "167  ../NIH-NLM-ThinBloodSmearsPf/Polygon Set/276C1...   \n",
       "168  ../NIH-NLM-ThinBloodSmearsPf/Polygon Set/276C1...   \n",
       "169  ../NIH-NLM-ThinBloodSmearsPf/Polygon Set/276C1...   \n",
       "170  ../NIH-NLM-ThinBloodSmearsPf/Polygon Set/276C1...   \n",
       "\n",
       "                                              img_path  \n",
       "0    ../NIH-NLM-ThinBloodSmearsPf/Polygon Set/306C2...  \n",
       "1    ../NIH-NLM-ThinBloodSmearsPf/Polygon Set/306C2...  \n",
       "2    ../NIH-NLM-ThinBloodSmearsPf/Polygon Set/306C2...  \n",
       "3    ../NIH-NLM-ThinBloodSmearsPf/Polygon Set/306C2...  \n",
       "4    ../NIH-NLM-ThinBloodSmearsPf/Polygon Set/306C2...  \n",
       "..                                                 ...  \n",
       "166  ../NIH-NLM-ThinBloodSmearsPf/Polygon Set/276C1...  \n",
       "167  ../NIH-NLM-ThinBloodSmearsPf/Polygon Set/276C1...  \n",
       "168  ../NIH-NLM-ThinBloodSmearsPf/Polygon Set/276C1...  \n",
       "169  ../NIH-NLM-ThinBloodSmearsPf/Polygon Set/276C1...  \n",
       "170  ../NIH-NLM-ThinBloodSmearsPf/Polygon Set/276C1...  \n",
       "\n",
       "[34264 rows x 9 columns]"
      ],
      "text/html": "<div>\n<style scoped>\n    .dataframe tbody tr th:only-of-type {\n        vertical-align: middle;\n    }\n\n    .dataframe tbody tr th {\n        vertical-align: top;\n    }\n\n    .dataframe thead th {\n        text-align: right;\n    }\n</style>\n<table border=\"1\" class=\"dataframe\">\n  <thead>\n    <tr style=\"text-align: right;\">\n      <th></th>\n      <th>?</th>\n      <th>cell</th>\n      <th>comment</th>\n      <th>annotation_type</th>\n      <th>??</th>\n      <th>position</th>\n      <th>filename</th>\n      <th>txt_path</th>\n      <th>img_path</th>\n    </tr>\n  </thead>\n  <tbody>\n    <tr>\n      <th>0</th>\n      <td>1-1</td>\n      <td>Uninfected</td>\n      <td>No_comment</td>\n      <td>Polygon</td>\n      <td>17</td>\n      <td>[(3199, 2214), (3216, 2216), (3232, 2218), (32...</td>\n      <td>IMG_20151106_112252</td>\n      <td>../NIH-NLM-ThinBloodSmearsPf/Polygon Set/306C2...</td>\n      <td>../NIH-NLM-ThinBloodSmearsPf/Polygon Set/306C2...</td>\n    </tr>\n    <tr>\n      <th>1</th>\n      <td>1-2</td>\n      <td>Uninfected</td>\n      <td>No_comment</td>\n      <td>Polygon</td>\n      <td>16</td>\n      <td>[(3193, 2345), (3210, 2341), (3228, 2343), (32...</td>\n      <td>IMG_20151106_112252</td>\n      <td>../NIH-NLM-ThinBloodSmearsPf/Polygon Set/306C2...</td>\n      <td>../NIH-NLM-ThinBloodSmearsPf/Polygon Set/306C2...</td>\n    </tr>\n    <tr>\n      <th>2</th>\n      <td>1-3</td>\n      <td>Uninfected</td>\n      <td>No_comment</td>\n      <td>Polygon</td>\n      <td>18</td>\n      <td>[(3088, 2134), (3105, 2135), (3131, 2145), (31...</td>\n      <td>IMG_20151106_112252</td>\n      <td>../NIH-NLM-ThinBloodSmearsPf/Polygon Set/306C2...</td>\n      <td>../NIH-NLM-ThinBloodSmearsPf/Polygon Set/306C2...</td>\n    </tr>\n    <tr>\n      <th>3</th>\n      <td>1-4</td>\n      <td>Uninfected</td>\n      <td>No_comment</td>\n      <td>Polygon</td>\n      <td>16</td>\n      <td>[(3053, 2267), (3072, 2269), (3092, 2274), (31...</td>\n      <td>IMG_20151106_112252</td>\n      <td>../NIH-NLM-ThinBloodSmearsPf/Polygon Set/306C2...</td>\n      <td>../NIH-NLM-ThinBloodSmearsPf/Polygon Set/306C2...</td>\n    </tr>\n    <tr>\n      <th>4</th>\n      <td>1-5</td>\n      <td>Uninfected</td>\n      <td>No_comment</td>\n      <td>Polygon</td>\n      <td>19</td>\n      <td>[(3342, 2261), (3360, 2260), (3380, 2269), (34...</td>\n      <td>IMG_20151106_112252</td>\n      <td>../NIH-NLM-ThinBloodSmearsPf/Polygon Set/306C2...</td>\n      <td>../NIH-NLM-ThinBloodSmearsPf/Polygon Set/306C2...</td>\n    </tr>\n    <tr>\n      <th>...</th>\n      <td>...</td>\n      <td>...</td>\n      <td>...</td>\n      <td>...</td>\n      <td>...</td>\n      <td>...</td>\n      <td>...</td>\n      <td>...</td>\n      <td>...</td>\n    </tr>\n    <tr>\n      <th>166</th>\n      <td>4-167</td>\n      <td>Parasitized</td>\n      <td>No_comment</td>\n      <td>Polygon</td>\n      <td>25</td>\n      <td>[(2399, 383), (2404, 363), (2412, 351), (2426,...</td>\n      <td>IMG_20151004_131030</td>\n      <td>../NIH-NLM-ThinBloodSmearsPf/Polygon Set/276C1...</td>\n      <td>../NIH-NLM-ThinBloodSmearsPf/Polygon Set/276C1...</td>\n    </tr>\n    <tr>\n      <th>167</th>\n      <td>4-168</td>\n      <td>Parasitized</td>\n      <td>No_comment</td>\n      <td>Polygon</td>\n      <td>21</td>\n      <td>[(3522, 2250), (3536, 2230), (3563, 2215), (35...</td>\n      <td>IMG_20151004_131030</td>\n      <td>../NIH-NLM-ThinBloodSmearsPf/Polygon Set/276C1...</td>\n      <td>../NIH-NLM-ThinBloodSmearsPf/Polygon Set/276C1...</td>\n    </tr>\n    <tr>\n      <th>168</th>\n      <td>4-169</td>\n      <td>Parasitized</td>\n      <td>No_comment</td>\n      <td>Polygon</td>\n      <td>20</td>\n      <td>[(3321, 2138), (3335, 2114), (3347, 2103), (33...</td>\n      <td>IMG_20151004_131030</td>\n      <td>../NIH-NLM-ThinBloodSmearsPf/Polygon Set/276C1...</td>\n      <td>../NIH-NLM-ThinBloodSmearsPf/Polygon Set/276C1...</td>\n    </tr>\n    <tr>\n      <th>169</th>\n      <td>4-170</td>\n      <td>Parasitized</td>\n      <td>No_comment</td>\n      <td>Polygon</td>\n      <td>20</td>\n      <td>[(3433, 1867), (3441, 1845), (3455, 1831), (34...</td>\n      <td>IMG_20151004_131030</td>\n      <td>../NIH-NLM-ThinBloodSmearsPf/Polygon Set/276C1...</td>\n      <td>../NIH-NLM-ThinBloodSmearsPf/Polygon Set/276C1...</td>\n    </tr>\n    <tr>\n      <th>170</th>\n      <td>4-171</td>\n      <td>Parasitized</td>\n      <td>No_comment</td>\n      <td>Polygon</td>\n      <td>17</td>\n      <td>[(1432, 1762), (1438, 1739), (1456, 1719), (14...</td>\n      <td>IMG_20151004_131030</td>\n      <td>../NIH-NLM-ThinBloodSmearsPf/Polygon Set/276C1...</td>\n      <td>../NIH-NLM-ThinBloodSmearsPf/Polygon Set/276C1...</td>\n    </tr>\n  </tbody>\n</table>\n<p>34264 rows × 9 columns</p>\n</div>"
     },
     "metadata": {},
     "execution_count": 6
    }
   ],
   "source": [
    "#load df lables from pickle\n",
    "df = pd.read_pickle(\"./labels.pkl\")\n",
    "df_polygon = df[df['annotation_type'] == 'Polygon']\n",
    "\n",
    "df_polygon\n"
   ]
  },
  {
   "cell_type": "code",
   "execution_count": 23,
   "metadata": {},
   "outputs": [
    {
     "output_type": "execute_result",
     "data": {
      "text/plain": [
       "0    [(3199, 2214), (3216, 2216), (3232, 2218), (32...\n",
       "Name: position, dtype: object"
      ]
     },
     "metadata": {},
     "execution_count": 23
    }
   ],
   "source": [
    "#df_polygon[df_polygon['position']]\n",
    "\n",
    "#df_polygon.img_path[:1]\n",
    "#df_polygon.filename[:1]\n",
    "df_polygon.position[:1]\n"
   ]
  },
  {
   "cell_type": "code",
   "execution_count": 27,
   "metadata": {},
   "outputs": [],
   "source": [
    "def minimum_bounding_rectangle(points):\n",
    "    \"\"\"\n",
    "    Find the smallest bounding rectangle for a set of points.\n",
    "    Returns a set of points representing the corners of the bounding box.\n",
    "\n",
    "    :param points: an nx2 matrix of coordinates\n",
    "    :rval: an nx2 matrix of coordinates\n",
    "    \"\"\"\n",
    "    from scipy.ndimage.interpolation import rotate\n",
    "    pi2 = np.pi/2.\n",
    "\n",
    "    # get the convex hull for the points\n",
    "    hull_points = points[ConvexHull(points).vertices]\n",
    "\n",
    "    # calculate edge angles\n",
    "    edges = np.zeros((len(hull_points)-1, 2))\n",
    "    edges = hull_points[1:] - hull_points[:-1]\n",
    "\n",
    "    angles = np.zeros((len(edges)))\n",
    "    angles = np.arctan2(edges[:, 1], edges[:, 0])\n",
    "\n",
    "    angles = np.abs(np.mod(angles, pi2))\n",
    "    angles = np.unique(angles)\n",
    "\n",
    "    # find rotation matrices\n",
    "    # XXX both work\n",
    "    rotations = np.vstack([\n",
    "        np.cos(angles),\n",
    "        np.cos(angles-pi2),\n",
    "        np.cos(angles+pi2),\n",
    "        np.cos(angles)]).T\n",
    "#     rotations = np.vstack([\n",
    "#         np.cos(angles),\n",
    "#         -np.sin(angles),\n",
    "#         np.sin(angles),\n",
    "#         np.cos(angles)]).T\n",
    "    rotations = rotations.reshape((-1, 2, 2))\n",
    "\n",
    "    # apply rotations to the hull\n",
    "    rot_points = np.dot(rotations, hull_points.T)\n",
    "\n",
    "    # find the bounding points\n",
    "    min_x = np.nanmin(rot_points[:, 0], axis=1)\n",
    "    max_x = np.nanmax(rot_points[:, 0], axis=1)\n",
    "    min_y = np.nanmin(rot_points[:, 1], axis=1)\n",
    "    max_y = np.nanmax(rot_points[:, 1], axis=1)\n",
    "\n",
    "    # find the box with the best area\n",
    "    areas = (max_x - min_x) * (max_y - min_y)\n",
    "    best_idx = np.argmin(areas)\n",
    "\n",
    "    # return the best box\n",
    "    x1 = max_x[best_idx]\n",
    "    x2 = min_x[best_idx]\n",
    "    y1 = max_y[best_idx]\n",
    "    y2 = min_y[best_idx]\n",
    "    r = rotations[best_idx]\n",
    "\n",
    "    rval = np.zeros((4, 2))\n",
    "    rval[0] = np.dot([x1, y2], r)\n",
    "    rval[1] = np.dot([x2, y2], r)\n",
    "    rval[2] = np.dot([x2, y1], r)\n",
    "    rval[3] = np.dot([x1, y1], r)\n",
    "\n",
    "    return rval"
   ]
  },
  {
   "cell_type": "code",
   "execution_count": 51,
   "metadata": {},
   "outputs": [
    {
     "output_type": "error",
     "ename": "ValueError",
     "evalue": "setting an array element with a sequence.",
     "traceback": [
      "\u001b[0;31m---------------------------------------------------------------------------\u001b[0m",
      "\u001b[0;31mTypeError\u001b[0m                                 Traceback (most recent call last)",
      "\u001b[0;31mTypeError\u001b[0m: float() argument must be a string or a number, not 'list'",
      "\nThe above exception was the direct cause of the following exception:\n",
      "\u001b[0;31mValueError\u001b[0m                                Traceback (most recent call last)",
      "\u001b[0;32m<ipython-input-51-ad31457277a4>\u001b[0m in \u001b[0;36m<module>\u001b[0;34m\u001b[0m\n\u001b[1;32m     39\u001b[0m \u001b[0;34m\u001b[0m\u001b[0m\n\u001b[1;32m     40\u001b[0m \u001b[0mpolygon\u001b[0m \u001b[0;34m=\u001b[0m \u001b[0mdf_polygon\u001b[0m\u001b[0;34m.\u001b[0m\u001b[0mposition\u001b[0m\u001b[0;34m[\u001b[0m\u001b[0;34m:\u001b[0m\u001b[0;36m1\u001b[0m\u001b[0;34m]\u001b[0m\u001b[0;34m\u001b[0m\u001b[0;34m\u001b[0m\u001b[0m\n\u001b[0;32m---> 41\u001b[0;31m \u001b[0mrect\u001b[0m \u001b[0;34m=\u001b[0m \u001b[0mminimum_bounding_rectangle\u001b[0m\u001b[0;34m(\u001b[0m\u001b[0mpoly_arr\u001b[0m\u001b[0;34m)\u001b[0m\u001b[0;34m\u001b[0m\u001b[0;34m\u001b[0m\u001b[0m\n\u001b[0m",
      "\u001b[0;32m<ipython-input-27-ba2bbdc102a3>\u001b[0m in \u001b[0;36mminimum_bounding_rectangle\u001b[0;34m(points)\u001b[0m\n\u001b[1;32m     11\u001b[0m \u001b[0;34m\u001b[0m\u001b[0m\n\u001b[1;32m     12\u001b[0m     \u001b[0;31m# get the convex hull for the points\u001b[0m\u001b[0;34m\u001b[0m\u001b[0;34m\u001b[0m\u001b[0;34m\u001b[0m\u001b[0m\n\u001b[0;32m---> 13\u001b[0;31m     \u001b[0mhull_points\u001b[0m \u001b[0;34m=\u001b[0m \u001b[0mpoints\u001b[0m\u001b[0;34m[\u001b[0m\u001b[0mConvexHull\u001b[0m\u001b[0;34m(\u001b[0m\u001b[0mpoints\u001b[0m\u001b[0;34m)\u001b[0m\u001b[0;34m.\u001b[0m\u001b[0mvertices\u001b[0m\u001b[0;34m]\u001b[0m\u001b[0;34m\u001b[0m\u001b[0;34m\u001b[0m\u001b[0m\n\u001b[0m\u001b[1;32m     14\u001b[0m \u001b[0;34m\u001b[0m\u001b[0m\n\u001b[1;32m     15\u001b[0m     \u001b[0;31m# calculate edge angles\u001b[0m\u001b[0;34m\u001b[0m\u001b[0;34m\u001b[0m\u001b[0;34m\u001b[0m\u001b[0m\n",
      "\u001b[0;32mqhull.pyx\u001b[0m in \u001b[0;36mscipy.spatial.qhull.ConvexHull.__init__\u001b[0;34m()\u001b[0m\n",
      "\u001b[0;32m~/Documents/Malaria Project/Git/malatec/Notebooks/venv_notebooks/lib/python3.7/site-packages/numpy/core/_asarray.py\u001b[0m in \u001b[0;36mascontiguousarray\u001b[0;34m(a, dtype)\u001b[0m\n\u001b[1;32m    175\u001b[0m \u001b[0;34m\u001b[0m\u001b[0m\n\u001b[1;32m    176\u001b[0m     \"\"\"\n\u001b[0;32m--> 177\u001b[0;31m     \u001b[0;32mreturn\u001b[0m \u001b[0marray\u001b[0m\u001b[0;34m(\u001b[0m\u001b[0ma\u001b[0m\u001b[0;34m,\u001b[0m \u001b[0mdtype\u001b[0m\u001b[0;34m,\u001b[0m \u001b[0mcopy\u001b[0m\u001b[0;34m=\u001b[0m\u001b[0;32mFalse\u001b[0m\u001b[0;34m,\u001b[0m \u001b[0morder\u001b[0m\u001b[0;34m=\u001b[0m\u001b[0;34m'C'\u001b[0m\u001b[0;34m,\u001b[0m \u001b[0mndmin\u001b[0m\u001b[0;34m=\u001b[0m\u001b[0;36m1\u001b[0m\u001b[0;34m)\u001b[0m\u001b[0;34m\u001b[0m\u001b[0;34m\u001b[0m\u001b[0m\n\u001b[0m\u001b[1;32m    178\u001b[0m \u001b[0;34m\u001b[0m\u001b[0m\n\u001b[1;32m    179\u001b[0m \u001b[0;34m\u001b[0m\u001b[0m\n",
      "\u001b[0;32m~/Documents/Malaria Project/Git/malatec/Notebooks/venv_notebooks/lib/python3.7/site-packages/pandas/core/arrays/numpy_.py\u001b[0m in \u001b[0;36m__array__\u001b[0;34m(self, dtype)\u001b[0m\n\u001b[1;32m    209\u001b[0m \u001b[0;34m\u001b[0m\u001b[0m\n\u001b[1;32m    210\u001b[0m     \u001b[0;32mdef\u001b[0m \u001b[0m__array__\u001b[0m\u001b[0;34m(\u001b[0m\u001b[0mself\u001b[0m\u001b[0;34m,\u001b[0m \u001b[0mdtype\u001b[0m\u001b[0;34m=\u001b[0m\u001b[0;32mNone\u001b[0m\u001b[0;34m)\u001b[0m \u001b[0;34m->\u001b[0m \u001b[0mnp\u001b[0m\u001b[0;34m.\u001b[0m\u001b[0mndarray\u001b[0m\u001b[0;34m:\u001b[0m\u001b[0;34m\u001b[0m\u001b[0;34m\u001b[0m\u001b[0m\n\u001b[0;32m--> 211\u001b[0;31m         \u001b[0;32mreturn\u001b[0m \u001b[0mnp\u001b[0m\u001b[0;34m.\u001b[0m\u001b[0masarray\u001b[0m\u001b[0;34m(\u001b[0m\u001b[0mself\u001b[0m\u001b[0;34m.\u001b[0m\u001b[0m_ndarray\u001b[0m\u001b[0;34m,\u001b[0m \u001b[0mdtype\u001b[0m\u001b[0;34m=\u001b[0m\u001b[0mdtype\u001b[0m\u001b[0;34m)\u001b[0m\u001b[0;34m\u001b[0m\u001b[0;34m\u001b[0m\u001b[0m\n\u001b[0m\u001b[1;32m    212\u001b[0m \u001b[0;34m\u001b[0m\u001b[0m\n\u001b[1;32m    213\u001b[0m     \u001b[0m_HANDLED_TYPES\u001b[0m \u001b[0;34m=\u001b[0m \u001b[0;34m(\u001b[0m\u001b[0mnp\u001b[0m\u001b[0;34m.\u001b[0m\u001b[0mndarray\u001b[0m\u001b[0;34m,\u001b[0m \u001b[0mnumbers\u001b[0m\u001b[0;34m.\u001b[0m\u001b[0mNumber\u001b[0m\u001b[0;34m)\u001b[0m\u001b[0;34m\u001b[0m\u001b[0;34m\u001b[0m\u001b[0m\n",
      "\u001b[0;32m~/Documents/Malaria Project/Git/malatec/Notebooks/venv_notebooks/lib/python3.7/site-packages/numpy/core/_asarray.py\u001b[0m in \u001b[0;36masarray\u001b[0;34m(a, dtype, order)\u001b[0m\n\u001b[1;32m     81\u001b[0m \u001b[0;34m\u001b[0m\u001b[0m\n\u001b[1;32m     82\u001b[0m     \"\"\"\n\u001b[0;32m---> 83\u001b[0;31m     \u001b[0;32mreturn\u001b[0m \u001b[0marray\u001b[0m\u001b[0;34m(\u001b[0m\u001b[0ma\u001b[0m\u001b[0;34m,\u001b[0m \u001b[0mdtype\u001b[0m\u001b[0;34m,\u001b[0m \u001b[0mcopy\u001b[0m\u001b[0;34m=\u001b[0m\u001b[0;32mFalse\u001b[0m\u001b[0;34m,\u001b[0m \u001b[0morder\u001b[0m\u001b[0;34m=\u001b[0m\u001b[0morder\u001b[0m\u001b[0;34m)\u001b[0m\u001b[0;34m\u001b[0m\u001b[0;34m\u001b[0m\u001b[0m\n\u001b[0m\u001b[1;32m     84\u001b[0m \u001b[0;34m\u001b[0m\u001b[0m\n\u001b[1;32m     85\u001b[0m \u001b[0;34m\u001b[0m\u001b[0m\n",
      "\u001b[0;31mValueError\u001b[0m: setting an array element with a sequence."
     ]
    }
   ],
   "source": [
    "\n",
    "\n",
    "#data = {\"type\":\"FeatureCollection\",\n",
    "# \"features\":[{\"type\":\"Feature\",\n",
    "#              \"properties\":{\"osm_id\":\"1269601\",\n",
    "#                            \"leisure\":\"pitch\",\n",
    "#                            \"type\":\"multipolygon\",\n",
    "#                            \"sport\":\"soccer\"},\n",
    "#              \"geometry\":{\n",
    "#                  \"type\":\"Polygon\",\n",
    "#                  \"coordinates\":[[\n",
    "#                      [6.6131123,46.5124914],\n",
    "#                      [6.6129421,46.5125385],\n",
    "#                      [6.6127998,46.5125783],\n",
    "#                      [6.6126291,46.512626],\n",
    "#                      [6.6125308,46.5124593],\n",
    "#                      [6.6127016,46.5124121],\n",
    "#                      [6.6128452,46.5123724],\n",
    "#                      [6.6130153,46.5123244],\n",
    "#                      [6.6131123,46.5124914]]\n",
    "#                  ]\n",
    "#              }\n",
    "#             }\n",
    "#            ]\n",
    "#      }\n",
    "\n",
    "# polygons can have holes, so, [\"coordinates\"][0] gives you boundary of polygon.\n",
    "# If you have multipolygon, [\"coordinates\"][0][0] gives you the first polygon boundary.\n",
    "#geom = data[\"features\"][0][\"geometry\"][\"coordinates\"][0]\n",
    "\n",
    "#mabr = minimum_bounding_rectangle(np.array(geom))\n",
    "\n",
    "# OUT:\n",
    "#array[[  6.6131123 ,  46.5124914 ],\n",
    "#      [  6.61306213,  46.51231129],\n",
    "#      [  6.6125308 ,  46.5124593 ],\n",
    "#      [  6.61258097,  46.51263941]]\n",
    "\n",
    "#data2 = dict(data) # copy data to data2    \n",
    "#data2[\"features\"][0][\"geometry\"][\"coordinates\"][0] = mabr.tolist()\n",
    "\n",
    "polygon = df_polygon.position[:1]\n",
    "rect = minimum_bounding_rectangle(poly_arr)"
   ]
  },
  {
   "cell_type": "code",
   "execution_count": 50,
   "metadata": {},
   "outputs": [
    {
     "output_type": "execute_result",
     "data": {
      "text/plain": [
       "<PandasArray>\n",
       "[[(3199, 2214), (3216, 2216), (3232, 2218), (3245, 2226), (3260, 2243), (3266, 2267), (3263, 2298), (3249, 2321), (3227, 2331), (3186, 2329), (3167, 2320), (3151, 2304), (3139, 2282), (3139, 2257), (3148, 2239), (3164, 2224), (3181, 2217)]]\n",
       "Length: 1, dtype: object"
      ]
     },
     "metadata": {},
     "execution_count": 50
    }
   ],
   "source": [
    "poly_arr = polygon.array\n",
    "poly_arr"
   ]
  },
  {
   "cell_type": "code",
   "execution_count": null,
   "metadata": {},
   "outputs": [],
   "source": []
  }
 ]
}