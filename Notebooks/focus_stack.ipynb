{
 "cells": [
  {
   "cell_type": "markdown",
   "metadata": {},
   "source": [
    "# Focus Stack"
   ]
  },
  {
   "cell_type": "markdown",
   "metadata": {},
   "source": [
    "Using focus-stack to stack different pictures to one stacked version https://github.com/momonala/focus-stack\n"
   ]
  },
  {
   "cell_type": "code",
   "execution_count": 2,
   "metadata": {},
   "outputs": [
    {
     "name": "stdout",
     "output_type": "stream",
     "text": [
      "Processing ./focus-stack\n",
      "Building wheels for collected packages: focus-stack\n",
      "  Building wheel for focus-stack (setup.py) ... \u001b[?25ldone\n",
      "\u001b[?25h  Created wheel for focus-stack: filename=focus_stack-0.0.1-py3-none-any.whl size=8260 sha256=27ca9e6f5d2190f46f396c26f390cc649e86e579c1d155904fdbfeeb992c3b95\n",
      "  Stored in directory: /root/.cache/pip/wheels/2b/ef/c4/5b2abc116bf1120f03e4fb0cf384f4546a4221caa3f9ab3951\n",
      "Successfully built focus-stack\n",
      "Installing collected packages: focus-stack\n",
      "Successfully installed focus-stack-0.0.1\n"
     ]
    }
   ],
   "source": [
    "#!git clone https://github.com/momonala/focus-stack\n",
    "#!pip install focus-stack\n",
    "!pip install /tf/Notebooks/focus-stack"
   ]
  },
  {
   "cell_type": "code",
   "execution_count": 6,
   "metadata": {},
   "outputs": [
    {
     "name": "stdout",
     "output_type": "stream",
     "text": [
      "INFO:focus_stack.focus_stack:reading images\n",
      "INFO:focus_stack.focus_stack:aligning images\n",
      "Killed\n"
     ]
    }
   ],
   "source": [
    "!focusstack -i ../stacking/stack_img_1 -o ../stacking/output1.png"
   ]
  },
  {
   "cell_type": "code",
   "execution_count": 7,
   "metadata": {},
   "outputs": [
    {
     "name": "stdout",
     "output_type": "stream",
     "text": [
      "INFO:focus_stack.focus_stack:reading images\n",
      "INFO:focus_stack.focus_stack:aligning images\n",
      "Killed\n"
     ]
    }
   ],
   "source": [
    "!focusstack -i ../stacking/stack_img_2 -o ../stacking/output2.png -d True"
   ]
  },
  {
   "cell_type": "code",
   "execution_count": 9,
   "metadata": {},
   "outputs": [
    {
     "name": "stdout",
     "output_type": "stream",
     "text": [
      "INFO:focus_stack.focus_stack:reading images\r\n",
      "INFO:focus_stack.focus_stack:aligning images\r\n",
      "Traceback (most recent call last):\r\n",
      "  File \"/usr/local/bin/focusstack\", line 8, in <module>\r\n",
      "    sys.exit(main())\r\n",
      "  File \"/usr/local/lib/python3.6/dist-packages/focus_stack/run.py\", line 58, in main\r\n",
      "    stacked = stacker.focus_stack(image_files)\r\n",
      "  File \"/usr/local/lib/python3.6/dist-packages/focus_stack/focus_stack.py\", line 41, in focus_stack\r\n",
      "    images = self._align_images(image_matrices)\r\n",
      "  File \"/usr/local/lib/python3.6/dist-packages/focus_stack/focus_stack.py\", line 84, in _align_images\r\n",
      "    aligned_imgs.append(images[0])\r\n",
      "IndexError: list index out of range\r\n"
     ]
    }
   ],
   "source": [
    "!focusstack -i ../stacking/stack_img_3 -o ../stacking/output3.png -d True"
   ]
  },
  {
   "cell_type": "code",
   "execution_count": 14,
   "metadata": {},
   "outputs": [
    {
     "name": "stdout",
     "output_type": "stream",
     "text": [
      "INFO:focus_stack.focus_stack:reading images\n",
      "INFO:focus_stack.focus_stack:aligning images\n",
      "Traceback (most recent call last):\n",
      "  File \"/usr/local/bin/focusstack\", line 8, in <module>\n",
      "    sys.exit(main())\n",
      "  File \"/usr/local/lib/python3.6/dist-packages/focus_stack/run.py\", line 58, in main\n",
      "    stacked = stacker.focus_stack(image_files)\n",
      "  File \"/usr/local/lib/python3.6/dist-packages/focus_stack/focus_stack.py\", line 41, in focus_stack\n",
      "    images = self._align_images(image_matrices)\n",
      "  File \"/usr/local/lib/python3.6/dist-packages/focus_stack/focus_stack.py\", line 113, in _align_images\n",
      "    flags=cv2.INTER_LINEAR,\n",
      "cv2.error: OpenCV(4.4.0) /tmp/pip-req-build-6amqbhlx/opencv/modules/imgproc/src/imgwarp.cpp:3167: error: (-215:Assertion failed) (M0.type() == CV_32F || M0.type() == CV_64F) && M0.rows == 3 && M0.cols == 3 in function 'warpPerspective'\n",
      "\n"
     ]
    }
   ],
   "source": [
    "!focusstack -i ../stacking/stack_img_4 -o ../stacking/output4.png"
   ]
  },
  {
   "cell_type": "code",
   "execution_count": null,
   "metadata": {},
   "outputs": [],
   "source": []
  }
 ],
 "metadata": {
  "kernelspec": {
   "display_name": "Python 3",
   "language": "python",
   "name": "python3"
  },
  "language_info": {
   "codemirror_mode": {
    "name": "ipython",
    "version": 3
   },
   "file_extension": ".py",
   "mimetype": "text/x-python",
   "name": "python",
   "nbconvert_exporter": "python",
   "pygments_lexer": "ipython3",
   "version": "3.6.9"
  }
 },
 "nbformat": 4,
 "nbformat_minor": 2
}
