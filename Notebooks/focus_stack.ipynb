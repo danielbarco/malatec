{
 "cells": [
  {
   "cell_type": "markdown",
   "metadata": {},
   "source": [
    "# Focus Stack"
   ]
  },
  {
   "cell_type": "markdown",
   "metadata": {},
   "source": [
    "Using focus-stack to stack different pictures to one stacked version https://github.com/momonala/focus-stack\n"
   ]
  },
  {
   "cell_type": "code",
   "execution_count": 50,
   "metadata": {},
   "outputs": [
    {
     "name": "stdout",
     "output_type": "stream",
     "text": [
      "Processing ./focus-stack\n",
      "Building wheels for collected packages: focus-stack\n",
      "  Building wheel for focus-stack (setup.py) ... \u001b[?25ldone\n",
      "\u001b[?25h  Created wheel for focus-stack: filename=focus_stack-0.0.1-py3-none-any.whl size=8297 sha256=d0fa5ca0f0fe3b8f20225c3f166ccf22131a51c0672185b5f760a863b0afbe94\n",
      "  Stored in directory: /root/.cache/pip/wheels/2b/ef/c4/5b2abc116bf1120f03e4fb0cf384f4546a4221caa3f9ab3951\n",
      "Successfully built focus-stack\n",
      "Installing collected packages: focus-stack\n",
      "  Attempting uninstall: focus-stack\n",
      "    Found existing installation: focus-stack 0.0.1\n",
      "    Uninstalling focus-stack-0.0.1:\n",
      "      Successfully uninstalled focus-stack-0.0.1\n",
      "Successfully installed focus-stack-0.0.1\n"
     ]
    }
   ],
   "source": [
    "#!git clone https://github.com/momonala/focus-stack\n",
    "#!pip install focus-stack\n",
    "!pip install /tf/Notebooks/focus-stack"
   ]
  },
  {
   "cell_type": "code",
   "execution_count": 51,
   "metadata": {},
   "outputs": [
    {
     "name": "stdout",
     "output_type": "stream",
     "text": [
      "INFO:focus_stack.focus_stack:reading images 50\n",
      "INFO:focus_stack.focus_stack:aligning images\n",
      "INFO:focus_stack.focus_stack:Computing the laplacian of the blurred images\n",
      "INFO:focus_stack.focus_stack:Using laplacian gradient to find regions of focus, and stack.\n",
      "INFO:focus_stack.run:files to be stacked: 50\n",
      "INFO:focus_stack.run:overwriting image ../stacking/output1.png\n"
     ]
    }
   ],
   "source": [
    "!focusstack -i ../stacking/stack_img_1 -o ../stacking/output1.png"
   ]
  },
  {
   "cell_type": "code",
   "execution_count": 54,
   "metadata": {},
   "outputs": [
    {
     "name": "stdout",
     "output_type": "stream",
     "text": [
      "INFO:focus_stack.focus_stack:reading images 50\n",
      "INFO:focus_stack.focus_stack:aligning images\n",
      "INFO:focus_stack.focus_stack:Computing the laplacian of the blurred images\n",
      "INFO:focus_stack.focus_stack:Using laplacian gradient to find regions of focus, and stack.\n",
      "INFO:focus_stack.run:files to be stacked: 50\n",
      "INFO:focus_stack.run:overwriting image ../stacking/output2.png\n"
     ]
    }
   ],
   "source": [
    "!focusstack -i ../stacking/stack_img_2 -o ../stacking/output2.png -d True"
   ]
  },
  {
   "cell_type": "code",
   "execution_count": 55,
   "metadata": {},
   "outputs": [
    {
     "name": "stdout",
     "output_type": "stream",
     "text": [
      "INFO:focus_stack.focus_stack:reading images 50\n",
      "INFO:focus_stack.focus_stack:aligning images\n",
      "Traceback (most recent call last):\n",
      "  File \"/usr/local/bin/focusstack\", line 8, in <module>\n",
      "    sys.exit(main())\n",
      "  File \"/usr/local/lib/python3.6/dist-packages/focus_stack/run.py\", line 58, in main\n",
      "    stacked = stacker.focus_stack(image_files)\n",
      "  File \"/usr/local/lib/python3.6/dist-packages/focus_stack/focus_stack.py\", line 41, in focus_stack\n",
      "    images = self._align_images(image_matrices)\n",
      "  File \"/usr/local/lib/python3.6/dist-packages/focus_stack/focus_stack.py\", line 107, in _align_images\n",
      "    img_i_key_points, img1_key_points, matches\n",
      "  File \"/usr/local/lib/python3.6/dist-packages/focus_stack/focus_stack.py\", line 73, in _find_homography\n",
      "    image_1_points, image_2_points, cv2.RANSAC, ransacReprojThreshold=2.0\n",
      "cv2.error: OpenCV(4.4.0) /tmp/pip-req-build-6amqbhlx/opencv/modules/calib3d/src/ptsetreg.cpp:174: error: (-215:Assertion failed) count >= 0 && count2 == count in function 'run'\n",
      "\n"
     ]
    }
   ],
   "source": [
    "!focusstack -i ../stacking/stack_img_3 -o ../stacking/output3.png -d True"
   ]
  },
  {
   "cell_type": "code",
   "execution_count": 14,
   "metadata": {},
   "outputs": [
    {
     "name": "stdout",
     "output_type": "stream",
     "text": [
      "INFO:focus_stack.focus_stack:reading images\n",
      "INFO:focus_stack.focus_stack:aligning images\n",
      "Traceback (most recent call last):\n",
      "  File \"/usr/local/bin/focusstack\", line 8, in <module>\n",
      "    sys.exit(main())\n",
      "  File \"/usr/local/lib/python3.6/dist-packages/focus_stack/run.py\", line 58, in main\n",
      "    stacked = stacker.focus_stack(image_files)\n",
      "  File \"/usr/local/lib/python3.6/dist-packages/focus_stack/focus_stack.py\", line 41, in focus_stack\n",
      "    images = self._align_images(image_matrices)\n",
      "  File \"/usr/local/lib/python3.6/dist-packages/focus_stack/focus_stack.py\", line 113, in _align_images\n",
      "    flags=cv2.INTER_LINEAR,\n",
      "cv2.error: OpenCV(4.4.0) /tmp/pip-req-build-6amqbhlx/opencv/modules/imgproc/src/imgwarp.cpp:3167: error: (-215:Assertion failed) (M0.type() == CV_32F || M0.type() == CV_64F) && M0.rows == 3 && M0.cols == 3 in function 'warpPerspective'\n",
      "\n"
     ]
    }
   ],
   "source": [
    "!focusstack -i ../stacking/stack_img_4 -o ../stacking/output4.png"
   ]
  },
  {
   "cell_type": "code",
   "execution_count": null,
   "metadata": {},
   "outputs": [],
   "source": []
  }
 ],
 "metadata": {
  "kernelspec": {
   "display_name": "Python 3",
   "language": "python",
   "name": "python3"
  },
  "language_info": {
   "codemirror_mode": {
    "name": "ipython",
    "version": 3
   },
   "file_extension": ".py",
   "mimetype": "text/x-python",
   "name": "python",
   "nbconvert_exporter": "python",
   "pygments_lexer": "ipython3",
   "version": "3.6.9"
  }
 },
 "nbformat": 4,
 "nbformat_minor": 2
}
